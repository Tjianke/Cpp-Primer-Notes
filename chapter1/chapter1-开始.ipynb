{
 "cells": [
  {
   "cell_type": "markdown",
   "metadata": {},
   "source": [
    "# 第1章 开始"
   ]
  },
  {
   "cell_type": "markdown",
   "metadata": {},
   "source": [
    "## 1.1 编写一个简单的C++程序"
   ]
  },
  {
   "cell_type": "markdown",
   "metadata": {},
   "source": [
    "- 每个C++程序都包含一个或多个函数（function），其中一个必须命名为`main`，操作系统通过调用`main`来运行C++程序\n",
    "- 一个函数的定义包含4部分：返回类型（return type）、函数名（function name）、一个括号包围的形参列表（parameter list，允许为空）以及函数体（function body）；虽然`main`函数在某种程度上比较特殊，但其定义与其它函数是一样的\n",
    "- `main`函数的返回类型必须为`int` ，在大多数系统中，`main`的返回值被用来指示状态，0表示成功，非0的含义则由系统定义，通常用来指出错误类型\n",
    "- 一种类型不仅定义了数据元素的内容，还定义了这类数据上可以进行的运算，每个变量都有自己的类型"
   ]
  },
  {
   "cell_type": "markdown",
   "metadata": {},
   "source": [
    "### 1.1.1 编译、运行程序"
   ]
  },
  {
   "cell_type": "markdown",
   "metadata": {},
   "source": [
    "- 如何编译程序依赖于你使用的操作系统和编译器\n",
    "- 程序文件通常被称为源文件（source file），可以使用的后缀名有：.cc、.cxx、.cpp、.cp以及.c"
   ]
  },
  {
   "cell_type": "markdown",
   "metadata": {},
   "source": [
    "## 1.2 初识输入输出"
   ]
  },
  {
   "cell_type": "markdown",
   "metadata": {},
   "source": [
    "- C++语言并未定义任何输入输出（IO）语句，取而代之，包含了一个全面的标准库（standard library）来提供IO机制（以及很多其他设施）\n",
    "- 标准库`iostream`定义了4个IO对象：`cin`、`cout`、`cerr`、`clog`，第一个是`istream`类型的对象，后面三个是`ostream`类型的对象\n",
    "- `endl`是一个操纵符（manipulator），它可以结束当前行，并将与设备关联的缓冲区（buffer）中的内容刷到设备中\n",
    "- 命名空间可以帮助我们避免不经意的名字定义冲突，以及使用库中相同名字的冲突，标准库定义的所有名字都在命名空间`std`中\n",
    "- 标准库定义了不同版本的输入输出运算符，来处理不同类型的运算对象"
   ]
  },
  {
   "cell_type": "markdown",
   "metadata": {},
   "source": [
    "## 1.4 控制流"
   ]
  },
  {
   "cell_type": "markdown",
   "metadata": {},
   "source": [
    "- 语句一般是顺序执行的，控制流语句可以允许我们写出更为复杂的执行路径\n",
    "- 所谓语句块（block），就是用花括号包围的零条或多条语句的序列，语句块限制了其中所定义变量的生命周期和作用域\n",
    "- 每个for语句都包含两部分：循环头和循环体；循环头控制循环体的执行次数，它由三部分组成：初始化语句、循环条件以及表达式；初始化语句只在for循环入口处执行一次，若初始化语句定义了变量，则其生命周期仅在循环内部；循环体每次执行前都会先检查循环条件"
   ]
  },
  {
   "cell_type": "markdown",
   "metadata": {},
   "source": [
    "### 1.4.3 读取数量不定的输入数据"
   ]
  },
  {
   "cell_type": "markdown",
   "metadata": {},
   "source": [
    "```C++\n",
    "#include <iostream>\n",
    "int main() {\n",
    "    int sum = 0, value = 0;\n",
    "    while (std::cin >> value) {\n",
    "        sum += value;\n",
    "    }\n",
    "```\n",
    "- 上面这段代码中，while检测的是`std::cin`，当我们使用一个istream对象作为条件时，其效果是检测流的状态，如果流是有效的，即流未遇到错误，那么检测成功。当遇到文件结束符（end of file），或遇到一个无效输入时（例如读入的值不是整数），istream的状态会变为无效。"
   ]
  },
  {
   "cell_type": "markdown",
   "metadata": {},
   "source": [
    "## 1.5 类简介"
   ]
  },
  {
   "cell_type": "markdown",
   "metadata": {},
   "source": [
    "- 一个类定义了一个类型，以及与其关联的一组操作"
   ]
  }
 ],
 "metadata": {
  "kernelspec": {
   "display_name": "Python 2",
   "language": "python",
   "name": "python2"
  },
  "language_info": {
   "codemirror_mode": {
    "name": "ipython",
    "version": 2
   },
   "file_extension": ".py",
   "mimetype": "text/x-python",
   "name": "python",
   "nbconvert_exporter": "python",
   "pygments_lexer": "ipython2",
   "version": "2.7.10"
  }
 },
 "nbformat": 4,
 "nbformat_minor": 2
}
