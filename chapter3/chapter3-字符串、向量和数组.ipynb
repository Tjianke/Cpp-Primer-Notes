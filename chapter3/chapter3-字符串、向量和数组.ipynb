{
 "cells": [
  {
   "cell_type": "markdown",
   "metadata": {},
   "source": [
    "# 第3章 字符串、向量和数组"
   ]
  },
  {
   "cell_type": "markdown",
   "metadata": {},
   "source": [
    "- 内置类型体现了大多数计算机硬件本身具备的能力；数组的实现与硬件密切相关，因此它在灵活性上稍显不足"
   ]
  },
  {
   "cell_type": "markdown",
   "metadata": {},
   "source": [
    "## 3.1 命名空间的using声明"
   ]
  },
  {
   "cell_type": "markdown",
   "metadata": {},
   "source": [
    "- 使用using声明，可以直接访问命名空间中的名字：using namespace::name\n",
    "- 每个名字都需要独立的using声明\n",
    "- 头文本不应包含using声明，避免被其它文件包含"
   ]
  },
  {
   "cell_type": "markdown",
   "metadata": {},
   "source": [
    "## 3.2 标准库类型string"
   ]
  },
  {
   "cell_type": "markdown",
   "metadata": {},
   "source": [
    "- 标准库类型string表示可变长的字符序列"
   ]
  },
  {
   "cell_type": "markdown",
   "metadata": {},
   "source": [
    "### 3.2.1 定义和初始化string对象"
   ]
  },
  {
   "cell_type": "markdown",
   "metadata": {},
   "source": [
    "- string有以下几种初始化方式：\n",
    "```c++\n",
    "string s1; // 默认初始化，s1是一个空串\n",
    "string s2(s1); // s2是s1的副本\n",
    "string s2 = s1; // 同上等价\n",
    "string s3(\"value\"); // s3是字面值的副本，除了字面值最后的那个空字符外\n",
    "string s3 = \"value\"; // 同上等价\n",
    "string s4(n, 'c'); // 把s4初始化为由连续n个字符c组成的串\n",
    "```\n",
    "- 如果使用等号（=）初始化一个变量，实际上执行的是拷贝初始化（copy initialization），编译器把等号右测的初始值拷贝到新创建的对象中去；与之相反，如果不使用等号，则执行的是直接初始化（direct initialization）；当初始值只有一个时，使用直接初始化或拷贝初始化都行，如果像s4那样初始化要用到的值有多个，一般来说只能使用直接初始化"
   ]
  },
  {
   "cell_type": "markdown",
   "metadata": {},
   "source": [
    "### 3.2.2 string对象上的操作"
   ]
  },
  {
   "cell_type": "markdown",
   "metadata": {},
   "source": [
    "#### 读写string对象"
   ]
  },
  {
   "cell_type": "markdown",
   "metadata": {},
   "source": [
    "- 在利用cin执行读取操作时，string对象会自动忽略开头的空白（即空格符、换行符、制表符等）并从第一个真正的字符开始读起，直到遇见下一处空白为止\n",
    "- 有时我们希望能在最终得到的字符串中保留输入时的空白符，这时应该用getline函数替代原来的>>运算符；getline的参数是一个输入流和一个string对象，函数从给定的输入流中读入内容，直到遇到换行符为止（注意换行符也被读进来了），然后把所读的内容存入到那个string对象中去（不包含换行符）；getline只要一遇到换行符就结束读取操作并返回结果，哪怕输入的一开始就是个换行符"
   ]
  },
  {
   "cell_type": "markdown",
   "metadata": {},
   "source": [
    "#### string的empty和size操作"
   ]
  },
  {
   "cell_type": "markdown",
   "metadata": {},
   "source": [
    "- size函数返回的是一个string::size_type类型的值，它是一个无符号类型的值"
   ]
  },
  {
   "cell_type": "markdown",
   "metadata": {},
   "source": [
    "#### 比较string对象"
   ]
  },
  {
   "cell_type": "markdown",
   "metadata": {},
   "source": [
    "- 如果两个string对象的长度不同，而且较短string对象的每个字符都与较长string对象对应位置上的字符相同，就说较短string对象小于较长string对象\n",
    "- 如果两个string对象在某些对应的位置上不一致，则string对象比较的结果其实是string对象中第一对相异字符比较的结果"
   ]
  },
  {
   "cell_type": "markdown",
   "metadata": {},
   "source": [
    "#### 字面值和string对象相加"
   ]
  },
  {
   "cell_type": "markdown",
   "metadata": {},
   "source": [
    "- 当把string对象和字符字面值及字符串字面值混在一条语句中使用时，必须确保每个加法运算符的两侧的运算对象至少有一个是string\n",
    "```c++\n",
    "string s1 = \"hello\", s2 = \"world\";\n",
    "string s3 = s1 + \", \" + s2 + '\\n'; // 正确\n",
    "string s6 = s1 + \", \" + \"world\"; // 正确，从左到右计算，每一步都符合要求\n",
    "string s7 = \"hello\" + \", \" + s2; // 错误\n",
    "```"
   ]
  },
  {
   "cell_type": "markdown",
   "metadata": {},
   "source": [
    "### 3.2.3 处理string对象中的字符"
   ]
  },
  {
   "cell_type": "markdown",
   "metadata": {},
   "source": [
    "- 我们经常需要单独处理string对象中的字符，这时需要解决两个问题：一，如何获取字符本身；二，如何处理这个字符；对于第一个问题，可以使用基于范围的for语句，对于第二个问题，在cctype头文件中定义了一组标准库函数处理这部分工作\n",
    "- C++程序应该使用名为cname的头文件而不使用name.h的形式，标准库中的名字总能在命名空间std中找到"
   ]
  },
  {
   "cell_type": "markdown",
   "metadata": {},
   "source": [
    "#### 基于范围的for语句"
   ]
  },
  {
   "cell_type": "markdown",
   "metadata": {},
   "source": [
    "- C++11新标准提供了一种语句：范围for（range for）语句，这种语句遍历给定序列中的每个元素并对序列中的每个值执行某种操作，其语法形式是：\n",
    "```c++\n",
    "for (declaration : expression)\n",
    "    statement\n",
    "```\n",
    "其中，expression部分是一个对象，用于表示一个序列，declaration部分负责定义一个变量，该变量将被用于访问序列中的基础元素，每次迭代，declaration部分的变量会被初始化为expression部分的下一个元素值\n",
    "```c++\n",
    "string str(\"some string\");\n",
    "for (auto c : str)\n",
    "    cout << c << endl;\n",
    "```\n",
    "- 如果想要改变string对象中字符的值，必须把循环变量定义成引用类型\n",
    "```c++\n",
    "string s(\"Hello World!!!\");\n",
    "for (atuo &c : s)\n",
    "    c = toupper(c);\n",
    "cout << s << endl;\n",
    "```"
   ]
  },
  {
   "cell_type": "markdown",
   "metadata": {},
   "source": [
    "#### 下标运算符"
   ]
  },
  {
   "cell_type": "markdown",
   "metadata": {},
   "source": [
    "- 要想访问string对象中的单个字符有两种方式：一种是使用下标，另一种是使用迭代器\n",
    "- 下标运算符（\\[\\]）接收的输入参数是string::size_type类型的值，这个参数表示要访问的字符的位置，返回值是该位置上字符的引用\n",
    "- string对象的下标必须>=0而<s.size()，使用超出此范围的下标将引发不可预知的结果，以此推断，使用下标访问空string也会引发不可预知的结果"
   ]
  },
  {
   "cell_type": "markdown",
   "metadata": {},
   "source": [
    "## 3.3 标准库类型vector"
   ]
  },
  {
   "cell_type": "markdown",
   "metadata": {},
   "source": [
    "- 标准库类型vector表示对象的集合，其中所有对象的类型都相同\n",
    "- C++语言既有类模板（class template），也有函数模板，其中vector是一个类模板\n",
    "- vector能容纳绝大多数类型的对象作为其元素，但是因为引用不是对象，所以不存在包含引用的vector"
   ]
  },
  {
   "cell_type": "markdown",
   "metadata": {},
   "source": [
    "### 3.3.1 定义和初始化vector对象"
   ]
  },
  {
   "cell_type": "markdown",
   "metadata": {},
   "source": [
    "- 初始化vector对象的方法：\n",
    "```c++\n",
    "vector<T> v1; // v1是一个空vector，它潜在的元素是T类型的，执行默认初始化\n",
    "vector<T> v2(v1); // v2中包含v1中所有元素的副本\n",
    "vector<T> v2 = v1; // 同上\n",
    "vector<T> v3(n, val); // v3包含了n个重复的元素，每个元素的值都是val\n",
    "vector<T> v4(n); // v4包含了n个重复的执行了值初始化的对象\n",
    "vector<T> v5{a,b,c...}; // v5包含了初始值个数的元素，每个元素被赋予相应的初始值\n",
    "vector<T> v5 = {a,b,c...}; // 同上\n",
    "```"
   ]
  },
  {
   "cell_type": "markdown",
   "metadata": {},
   "source": [
    "#### 列表初始化vector对象"
   ]
  },
  {
   "cell_type": "markdown",
   "metadata": {},
   "source": [
    "- C++11提供了另外一种为vector对象的元素赋初值的方法，即列表初始化，此时，用花括号括起来的0个或多个初始元素值被赋给vector对象\n",
    "```c++\n",
    "vector<string> articles = {\"a\", \"an\", \"the\"}; // 列表初始化\n",
    "```\n",
    "- C++提供了几种不同的初始化方式，大多数情况下可以等价使用，不过也有例外：其一，使用拷贝初始化时（即使用=时），只能提供一个初始值；其二，如果提供的是一个类内初始值，则只能使用拷贝初始化或使用花括号的形式初始化；其三，如果提供的是初始元素值的列表，则只能把初始值都放在花括号里进行列表初始化，而不能放在圆括号里"
   ]
  },
  {
   "cell_type": "markdown",
   "metadata": {},
   "source": [
    "#### 值初始化"
   ]
  },
  {
   "cell_type": "markdown",
   "metadata": {},
   "source": [
    "- 通常情况下，可以只提供vector对象容纳的元素数量而略去初始值，此时库会创建一个值初始化的（value-initialized）元素初值，并把它赋给容器中的所有元素，这个初值由vector对象中元素的类型决定\n",
    "```c++\n",
    "vector<int> ivec(10); // 10个元素，每个都初始化为0\n",
    "vector<string> svec(10); // 10个元素，每个都是空string对象\n",
    "```\n",
    "- 对这种初始化的方式有两个特殊限制：其一，有些类要求必须明确地提供初始值，如果vector对象中元素的类型不支持默认初始化，我们就必须提供初始的元素值；其二，只能使用直接初始化，不能使用拷贝初始化\n",
    "```c++\n",
    "vector<int> vi = 10; // 错误：必须使用直接初始化的形式指定向量大小\n",
    "```"
   ]
  },
  {
   "cell_type": "markdown",
   "metadata": {},
   "source": [
    "### 3.3.2 向vector对象中添加元素"
   ]
  },
  {
   "cell_type": "markdown",
   "metadata": {},
   "source": [
    "- 如果循环体内部包含有向vector对象添加元素的语句，则不能使用范围for语句"
   ]
  },
  {
   "cell_type": "markdown",
   "metadata": {},
   "source": [
    "### 3.3.3 其它vector操作"
   ]
  },
  {
   "cell_type": "markdown",
   "metadata": {},
   "source": [
    "- 可以使用范围for语句处理vector对象中的所有元素\n",
    "```c++\n",
    "vector<int> v{1, 2, 3, 4};\n",
    "for (auto &i : v)\n",
    "    i *= i\n",
    "for (auto i : v)\n",
    "    cout << i << endl;\n",
    "```\n",
    "- size函数返回vector对象中元素的个数，返回值的类型是由vector定义的size_type类型，例如，对于上述对象v，size返回的类型应该是`vector<int>::size_tye`\n",
    "- vector对象下标的类型是相应的size_type类型\n",
    "- vector对象（以及string对象）的下标运算符可用于访问已存在的元素，而不能用于添加元素\n",
    "```c++\n",
    "vector<int> ivec; // 空vector对象\n",
    "for (decltype(ivec.size()) ix = 0; ix != 10; ++ix)\n",
    "    ivec[ix] = ix; // 严重错误：ivec不包含任何元素\n",
    "```"
   ]
  },
  {
   "cell_type": "markdown",
   "metadata": {},
   "source": [
    "## 3.4 迭代器介绍"
   ]
  },
  {
   "cell_type": "markdown",
   "metadata": {},
   "source": [
    "- 下标运算符可以访问string对象的字符或vector对象的元素，此外，有一种更通用的机制可以实现同样目的，即迭代器（iterator）\n",
    "- 所有标准库容器都可以使用迭代器，但是其中只有少数几种才同时支持下标运算符\n",
    "- 严格来说，string对象不属于容器类型，但是string支持很多与容器类型类似的操作，如，它支持迭代器和下标运算符\n",
    "- 类似于指针类型，迭代器也提供了对对象的间接访问；迭代器有有效和无效之分，有效的迭代器或者指向某个元素，或者指向容器中尾元素的下一位置，其它情况均无效"
   ]
  },
  {
   "cell_type": "markdown",
   "metadata": {},
   "source": [
    "### 3.4.1 使用迭代器"
   ]
  },
  {
   "cell_type": "markdown",
   "metadata": {},
   "source": [
    "- 和指针不一样的是，获取迭代器不是使用取地址符，有迭代器的类型同时拥有返回迭代器的成员，比如，这些类型都拥有名为begin和end的成员，其中begin成员负责返回指向第一个元素的迭代器，end成员则负责返回指向容器“尾元素的下一位置（one past the end）”的迭代器\n",
    "- end成员返回的迭代器常被称作尾后迭代器（off-the-end iterator）或者简称尾迭代器（end iterator），这样的迭代器没什么实际含义，仅是个标记而已\n",
    "- 特殊情况下如果容器为空，则begin和end返回的是同一个迭代器\n",
    "```c++\n",
    "auto b = v.begin(), e = v.end(); // 一般来说，我们不清楚（不在意）迭代器的准确类型，所以采用auto\n",
    "```"
   ]
  },
  {
   "cell_type": "markdown",
   "metadata": {},
   "source": [
    "#### 迭代器运算符"
   ]
  },
  {
   "cell_type": "markdown",
   "metadata": {},
   "source": [
    "- 使用==或!=可以比较两个合法的迭代器是否相等，如果两个迭代器指向的元素相同或者都是同一个容器的尾后迭代器，则它们相等，否则不等\n",
    "- 和指针类似，也能通过解引用迭代器来获取它所指示的元素，执行解引用的迭代器必须合法并确实指示着某个元素，视图解引用一个非法迭代器或者尾后迭代器都是未被定义的行为\n",
    "```c++\n",
    "string s(\"some string\");\n",
    "if (s.begin() != s.end()) {\n",
    "    auto it = s.begin();\n",
    "    *it = toupper(*it);\n",
    "```\n",
    "- 迭代器使用递增（++）运算符来从一个元素移动到下一个元素，同理也可以使用递减运算符；不能对end返回的迭代器进行递增的操作\n",
    "- 所有标准库容器的迭代器都定义了==和!=，但是它们中的大多数都没有定义<运算符，因此在for循环中应该尽量使用!=\n",
    "```c++\n",
    "for (auto it = s.begin(); it != s.end(); ++it)\n",
    "    *it = toupper(*it)\n",
    "```"
   ]
  },
  {
   "cell_type": "markdown",
   "metadata": {},
   "source": [
    "#### 迭代器类型"
   ]
  },
  {
   "cell_type": "markdown",
   "metadata": {},
   "source": [
    "- 拥有迭代器的标准库类型使用iterator和const_iterator来表示迭代器的类型\n",
    "```c++\n",
    "vector<int>::iterator it;\n",
    "string::iterator it2;\n",
    "vector<int>::const_iterator it3;\n",
    "string::const_iterator it4;\n",
    "```\n",
    "- const_iterator和常量指针类似，能读取但不能修改它所指的元素值，相反，iterator的对象可读可写；如果vector对象或string对象是一个常量，只能使用const_iterator，否则两种iterator都可使用"
   ]
  },
  {
   "cell_type": "markdown",
   "metadata": {},
   "source": [
    "#### begin和end运算符"
   ]
  },
  {
   "cell_type": "markdown",
   "metadata": {},
   "source": [
    "- begin和end返回的具体类型由对象是否是常量决定，若对象是常量，则返回const_iterator，否则返回iterator\n",
    "```c++\n",
    "vector<int> v;\n",
    "const vector<int> cv;\n",
    "auto it1 = v.begin(); // it1的类型是vector<int>::iterator\n",
    "auto it2 = v.end(); // it2的类型是vector<int>::const_iterator\n",
    "```\n",
    "- 如果对象只需读操作而无须写操作的话最好使用常量类型，为此，C++11引入了cbegin和cend函数，可以返回const_iterator（不论vector/string对象本身是否常量）"
   ]
  },
  {
   "cell_type": "markdown",
   "metadata": {},
   "source": [
    "#### 结合解引用和成员访问操作"
   ]
  },
  {
   "cell_type": "markdown",
   "metadata": {},
   "source": [
    "- 解引用迭代器可获得迭代器所指的对象，如果该对象的类型恰好是类，就有可能希望进一步访问它的成员\n",
    "```c++\n",
    "(*it).empty(); // 解引用it，然后调用结果对象的empty成员\n",
    "*it.empty(); // 错误：试图访问it的名为empty的成员，但it是个迭代器，没有empty成员\n",
    "```\n",
    "- C++语言定义了箭头运算符（->），能把解引用和成员访问两个操作结合在一起，也就是说，it->mem和(*it).mem表达的意思相同"
   ]
  },
  {
   "cell_type": "markdown",
   "metadata": {},
   "source": [
    "#### 某些对vector对象的操作会使迭代器失效"
   ]
  },
  {
   "cell_type": "markdown",
   "metadata": {},
   "source": [
    "- 任何一种可能改变vector对象容量的操作，比如push_back，都会使该vector对象的迭代器失效\n",
    "- 谨记，但凡是使用了迭代器的循环体，都不要向迭代器所属的容器添加元素"
   ]
  },
  {
   "cell_type": "markdown",
   "metadata": {},
   "source": [
    "### 3.4.2 迭代器运算"
   ]
  },
  {
   "cell_type": "markdown",
   "metadata": {},
   "source": [
    "- 迭代器的递增运算符令迭代器每次移动一个元素，所有的标准库容器都有支持递增运算的迭代器，也能用==和!=对任意标准库类型的两个有效迭代器进行比较\n",
    "- string和vector的迭代器提供了更多额外的运算符，一方面可使得迭代器的每次移动跨过多个元素，另外也支持迭代器进行关系运算，所有这些运算被称作迭代器运算（iterator arithmetic）\n",
    "- 只要两个迭代器指向的是同一个容器中的元素或者尾元素的下一位置，就能将其相减，所得结果是两个迭代器的距离，类型是名为difference_type的带符号整数，string和vector都定义了这个类型"
   ]
  },
  {
   "cell_type": "markdown",
   "metadata": {},
   "source": [
    "## 3.5 数组"
   ]
  },
  {
   "cell_type": "markdown",
   "metadata": {},
   "source": [
    "- 因为数组的大小固定，对某些特殊的应用来说程序的运行时性能较好，但是相应地也损失了一些灵活性"
   ]
  },
  {
   "cell_type": "markdown",
   "metadata": {},
   "source": [
    "### 3.5.1 定义和初始化内置数组"
   ]
  },
  {
   "cell_type": "markdown",
   "metadata": {},
   "source": [
    "- 数组中元素的个数也属于数组类型的一部分，编译的时候维度应该是已知的，也就是说，维度必须是一个常量表达式\n",
    "```c++\n",
    "unsigned cnt = 42; // 不是常量表达式\n",
    "constexpr unsigned sz = 42; // 常量表达式\n",
    "int arr[10]; // 含有10个整数的数组\n",
    "int *parr[sz]; // 含有42个整型指针的数组\n",
    "string bad[cnt]; // 错误：cnt不是常量表达式\n",
    "string strs[get_size()]; // 当get_size是constexpr时正确；否则错误\n",
    "```\n",
    "- 默认情况下，数组的元素被默认初始化；和内置类型的变量一样，如果在函数内部定义了某种内置类型的数组，那么默认初始化会令数组含有未定义的值\n",
    "- 定义数组的时候必须指定数组的类型，不允许用auto关键字由初始值的列表推断类型；数组的元素应为对象，因此不存在引用的数组"
   ]
  },
  {
   "cell_type": "markdown",
   "metadata": {},
   "source": [
    "#### 显式初始化数组元素"
   ]
  },
  {
   "cell_type": "markdown",
   "metadata": {},
   "source": [
    "- 可以对数组的元素进行列表初始化，此时允许忽略数组的维度；如果在声明时没有指明维度，编译器会根据初始值的数量计算并推测出来；相反，如果指明了维度，那么初始值的总数量不应该超出指定的大小；如果维度比提供的初始值数量大，则用提供的初始值初始化靠前的元素，剩下的元素被初始化成默认值"
   ]
  },
  {
   "cell_type": "markdown",
   "metadata": {},
   "source": [
    "#### 字符数组的特殊性"
   ]
  },
  {
   "cell_type": "markdown",
   "metadata": {},
   "source": [
    "- 可以用字符串字面值初始化字符数组，这时要注意结尾处还有一个空字符\n",
    "```c++\n",
    "char a1[] = {'C', '+', '+'}; // 列表初始化，没有空字符\n",
    "char a2[] = {'C', '+', '+', '\\0'}; // 列表初始化，含有显式的空字符\n",
    "char a3[] = \"C++\"; // 自动添加表示字符串结束的空字符\n",
    "char a4[6] = \"Daniel\"; // 错误：没有空间可存放空字符\n",
    "```"
   ]
  },
  {
   "cell_type": "markdown",
   "metadata": {},
   "source": [
    "#### 不允许拷贝和赋值"
   ]
  },
  {
   "cell_type": "markdown",
   "metadata": {},
   "source": [
    "- 不能将数组的内容拷贝给其它数组作为其初始值，也不能用数组为其它数组赋值"
   ]
  },
  {
   "cell_type": "markdown",
   "metadata": {},
   "source": [
    "#### 理解复杂的数组声明"
   ]
  },
  {
   "cell_type": "markdown",
   "metadata": {},
   "source": [
    "```c++\n",
    "int *ptrs[10]; // 含有10个整型指针的数组\n",
    "int &refs[10] = /*?*/; // 不存在引用的数组\n",
    "int (*Parray)[10] = &arr; // Parray指向一个含有10个整数的数组\n",
    "int (&arrRef)[10] = arr; // arrRef引用一个含有10个整数的数组\n",
    "int *(&array)[10] = ptrs; // array是数组的引用，该数组含有10个指针\n",
    "```"
   ]
  },
  {
   "cell_type": "markdown",
   "metadata": {},
   "source": [
    "###  3.5.2 访问数组元素"
   ]
  },
  {
   "cell_type": "markdown",
   "metadata": {},
   "source": [
    "- 与标准库类型vector和string一样，数组的元素也能使用范围for语句或下标运算符来访问；在使用下标的时候，通常将其定义为size_t类型，这是一种机器相关的无符号类型，它被设计的足够大以便能表示内存中任意对象的大小，它定义在cstddef头文件中\n",
    "- 数组除了大小固定这一特点外，其它用法与vector基本类似\n",
    "- 与vector和string一样，当需要遍历数组的所有元素时，最好的办法也是使用范围for语句\n",
    "```c++\n",
    "for (auto i : scores) // 因为维度是数组类型的一部分，所以系统知道数组scores中有多少个元素\n",
    "    cout << i << \" \";\n",
    "```"
   ]
  },
  {
   "cell_type": "markdown",
   "metadata": {},
   "source": [
    "### 3.5.3 指针和数组"
   ]
  },
  {
   "cell_type": "markdown",
   "metadata": {},
   "source": [
    "- 在很多用到数组名字的地方，编译器都会自动地将其替换为一个指向数组首元素的指针\n",
    "```c++\n",
    "string nums[] = {\"one\", \"two\", \"three\"};\n",
    "string *p = &nums[0]; // p指向nums的第一个元素\n",
    "string *p2 = nums; // 和上面的等价\n",
    "```\n",
    "- 由上可知，在一些情况下数组的操作实际上是指针的操作，例如：当使用数组作为一个auto变量的初始值时，推断得到的类型是指针而非数组\n",
    "```c++\n",
    "int ia[] = {0, 1, 2, 3, 4, 5, 6, 7, 8, 9};\n",
    "auto ia2(ia); // ia2是一个整型指针，执行ia的第一个元素，等同于auto ia2(&ia[0])\n",
    "ia2 = 42; // 错误：ia2是一个指针，不能用int值给指针赋值\n",
    "```\n",
    "- 当使用decltype关键字时上述转换不会发生\n",
    "```c++\n",
    "decltype(ia) ia3 = {0, 1, 2, 3, 4, 5, 6, 7, 8, 9}; // decltype(ia)返回的类型是由10个整数构成的数组\n",
    "```"
   ]
  },
  {
   "cell_type": "markdown",
   "metadata": {},
   "source": [
    "#### 指针也是迭代器"
   ]
  },
  {
   "cell_type": "markdown",
   "metadata": {},
   "source": [
    "- 指向数组元素的指针拥有更多功能；vector和string的迭代器支持的运算，数组的指针全都支持，例如，允许使用递增运算符将指向数组元素的指针向前移动到下一个位置上\n",
    "```c++\n",
    "int arr[] = {0, 1, 2, 3, 4, 5, 6, 7, 8, 9};\n",
    "int *p = arr;\n",
    "++p; // p指向arr[1]\n",
    "```\n",
    "- 就像迭代器一样，使用指针也能遍历数组中的元素，当然前提是要获取指向数组尾元素的下一位置的指针\n",
    "```c++\n",
    "int *e = &arr[10];\n",
    "for (int *b = arr; b != e; ++b)\n",
    "    cout << *b << endl;\n",
    "```"
   ]
  },
  {
   "cell_type": "markdown",
   "metadata": {},
   "source": [
    "#### 标准库函数begin和end"
   ]
  },
  {
   "cell_type": "markdown",
   "metadata": {},
   "source": [
    "```c++\n",
    "int ia[] = {0, 1, 2, 3, 4, 5, 6, 7, 8, 9};\n",
    "int *beg = begin(ia); // 指向ia首元素的指针\n",
    "int *end = end(ia); // 指向ia尾元素的下一位置的指针\n",
    "```"
   ]
  },
  {
   "cell_type": "markdown",
   "metadata": {},
   "source": [
    "#### 指针运算"
   ]
  },
  {
   "cell_type": "markdown",
   "metadata": {},
   "source": [
    "- 指向数组元素的指针可以指向之前我们说过的所有迭代器运算\n",
    "- 和迭代器一样，两个指针相减的结果是它们之间的距离，参与运算的两个指针必须指向同一个数组当中的元素\n",
    "```c++\n",
    "int arr[] = {1, 2, 3, 4, 5};\n",
    "auto n = end(arr) - begin(arr); // n的值是5\n",
    "```\n",
    "- 两个指针相减的结果的类型是一种名为ptrdiff_t的标准库类型，和size_t一样，也是定义在cstddef头文件中的机器相关的类型（带符号）"
   ]
  },
  {
   "cell_type": "markdown",
   "metadata": {},
   "source": [
    "#### 下标和指针"
   ]
  },
  {
   "cell_type": "markdown",
   "metadata": {},
   "source": [
    "- 只要指针指向的是数组中的元素（或者数组尾元素的下一位置），都可以执行下标运算\n",
    "```c++\n",
    "int ia[] = {0, 2, 4, 6, 8};\n",
    "int *p = &ia[2]; // p指向索引为2的元素\n",
    "int j = p[1]; // 等价于*(p + 1)，即ia[3]\n",
    "int k = p[-2]; // 等价于*(p - 2)，即ia[0]；内置的下标运算符所有的索引值可以是负数，这与vector和string不同\n",
    "```"
   ]
  },
  {
   "cell_type": "markdown",
   "metadata": {},
   "source": [
    "### 3.5.4 C风格字符串"
   ]
  },
  {
   "cell_type": "markdown",
   "metadata": {},
   "source": [
    "- 字符串字面值是一种通用结构的实例，即C风格字符串，C风格字符串不是一种类型，而是为了表述和使用字符串而形成的一种约定俗成的写法，按此习惯书写的字符串存放在字符数组中并以空字符结束，一般利用指针来操作这些字符串\n",
    "- C++程序中尽量避免使用C风格字符串，因为它们使用起来不方便，而且极易引发程序漏洞；对大多数应用来说，使用string比C风格字符串更安全、高效\n",
    "- cstring头文件中提供了一组操作C风格字符串的函数，传入此类函数的指针必须指向以空字符作为结束的数组\n",
    "```c++\n",
    "char ca[] = {'C', '+', '+'}; // 不以空字符结束\n",
    "cout << strlen(ca) << endl; // 严重错误：ca没有以空字符结束\n",
    "```"
   ]
  }
 ],
 "metadata": {
  "kernelspec": {
   "display_name": "Python 2",
   "language": "python",
   "name": "python2"
  },
  "language_info": {
   "codemirror_mode": {
    "name": "ipython",
    "version": 2
   },
   "file_extension": ".py",
   "mimetype": "text/x-python",
   "name": "python",
   "nbconvert_exporter": "python",
   "pygments_lexer": "ipython2",
   "version": "2.7.10"
  }
 },
 "nbformat": 4,
 "nbformat_minor": 2
}
