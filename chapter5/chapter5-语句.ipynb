{
 "cells": [
  {
   "cell_type": "markdown",
   "metadata": {},
   "source": [
    "# 第5章 语句"
   ]
  },
  {
   "cell_type": "markdown",
   "metadata": {},
   "source": [
    "- 通常情况下，语句是顺序执行的，C++还提供了一组控制流（flow-of-control）语句以支持更复杂的执行路径"
   ]
  },
  {
   "cell_type": "markdown",
   "metadata": {},
   "source": [
    "## 5.1 简单语句"
   ]
  },
  {
   "cell_type": "markdown",
   "metadata": {},
   "source": [
    "- 一个表达式，末尾加上分号就变成了表达式语句（expression statement）\n",
    "- 最简单的语句是空语句（null statement），空语句中只含有一个单独的分号；如果在程序的某个地方，语法上需要一条语句但是逻辑上不需要，此时应该使用空语句，一种常见的情况是，当循环的全部工作在条件部分就可以完成时，我们通常会用到空语句\n",
    "```c++\n",
    "while (cin >> s && s != sought)\n",
    "    ; // 空语句\n",
    "```\n",
    "- 使用空语句时应该加上注释，从而令读这段代码的人知道该语句是有意省略的"
   ]
  },
  {
   "cell_type": "markdown",
   "metadata": {},
   "source": [
    "### 复合语句（块）"
   ]
  },
  {
   "cell_type": "markdown",
   "metadata": {},
   "source": [
    "- 复合语句（compound statement）是指用花括号括起来的（可能为空的）语句和声明的序列，复合语句也被称作块（block）；一个块就是一个作用域，在块中引入的名字只能在块内部以及嵌套在块中的子块里访问；通常，名字在有限的区域内可见，该区域从名字定义处开始，到名字所在的（最内层）块的结尾为止\n",
    "- 如果在程序的某个地方，语法上需要一条语句，但是逻辑上需要多条语句，则应该使用复合语句\n",
    "- 所谓空块，是指内部没有任何语句的一对花括号，空块的作用等价于空语句\n",
    "```c++\n",
    "while (cin >> s && s != sought)\n",
    "    {}\n",
    "```"
   ]
  },
  {
   "cell_type": "markdown",
   "metadata": {},
   "source": [
    "## 5.2 语句作用域"
   ]
  },
  {
   "cell_type": "markdown",
   "metadata": {},
   "source": [
    "- 可以在语句的控制结构内定义变量，但是它们只在相应语句的内部可见，一旦语句结束，变量也就超出其作用范围了\n",
    "```c++\n",
    "while (int i = get_num())\n",
    "    cout << i << endl;\n",
    "i = 0; // 错误：在循环外部无法访问i\n",
    "```\n",
    "- 如果其他代码也需要访问控制变量，则变量必须定义在语句的外部"
   ]
  },
  {
   "cell_type": "markdown",
   "metadata": {},
   "source": [
    "## 5.3 条件语句"
   ]
  },
  {
   "cell_type": "markdown",
   "metadata": {},
   "source": [
    "- C++提供了两种条件语句，一种是if，它根据条件决定控制流；另一种是switch，它计算一个整型表达式的值，然后根据这个值从几条执行路径中选择一条"
   ]
  },
  {
   "cell_type": "markdown",
   "metadata": {},
   "source": [
    "### 5.3.1 if语句"
   ]
  },
  {
   "cell_type": "markdown",
   "metadata": {},
   "source": [
    "- `if (condition)`，condition必须用圆括号包围起来，它可以是表达式也可以是变量，并且其类型都必须能转换成bool"
   ]
  },
  {
   "cell_type": "markdown",
   "metadata": {},
   "source": [
    "### 5.3.2 switch语句"
   ]
  },
  {
   "cell_type": "markdown",
   "metadata": {},
   "source": [
    "- switch语句（switch statement）提供了一条便利的途径使得我们能够在若干固定选项中作出选择\n",
    "- switch语句首先对括号里的表达式求值，将其转换成整数类型，然后与每个case标签的值比较；如果表达式和某个case标签的值匹配成功，程序从该标签之后的第一条语句开始执行，直到到达了switch的结尾或遇到break\n",
    "- case关键字和它对应的值一起被称为case标签（case label），case标签必须是整型常量表达式\n",
    "- 如果某个case标签匹配成功，将从该标签开始往后顺序执行所有case分支，除非程序显式地中断了这一过程，否则知道switch的结尾处才会停下来；大多数情况下，在下一个case标签之前应该有一个break语句\n",
    "```c++\n",
    "switch (ch) {\n",
    "    case 'a':\n",
    "        ++aCnt;\n",
    "    case 'e':\n",
    "        ++eCnt;\n",
    "    case 'i':\n",
    "        ++iCnt;\n",
    "    case 'o':\n",
    "        ++oCnt;\n",
    "    case 'u':\n",
    "        ++uCnt;\n",
    "} // 假设ch是'e'，程序将执行case 'e'标签后面的代码，eCnt加1，接下来，程序将跨越case标签的边界，递增iCnt、oCnt、uCnt\n",
    "```\n",
    "- 如果没有任何一个case标签能匹配上switch表达式的值，程序将执行紧跟在default标签后面的语句"
   ]
  },
  {
   "cell_type": "markdown",
   "metadata": {},
   "source": [
    "## 5.4 迭代语句"
   ]
  },
  {
   "cell_type": "markdown",
   "metadata": {},
   "source": [
    "- 迭代语句通常称为循环，它重复执行操作直到满足某个条件才停下来；while和for语句在执行循环体之前检查条件，do while语句先执行循环体，然后再检查条件"
   ]
  },
  {
   "cell_type": "markdown",
   "metadata": {},
   "source": [
    "### 5.4.1 while语句"
   ]
  },
  {
   "cell_type": "markdown",
   "metadata": {},
   "source": [
    "- 定义在while条件部分或者while循环体内的变量每次迭代都经历从创建到销毁的过程"
   ]
  },
  {
   "cell_type": "markdown",
   "metadata": {},
   "source": [
    "### 5.4.2 传统的for语句"
   ]
  },
  {
   "cell_type": "markdown",
   "metadata": {},
   "source": [
    "- for语句的语法形式是\n",
    "```c++\n",
    "for (init-statement; condition; expression)\n",
    "    statement\n",
    "```\n",
    "关键字for及括号里的部分称作for语句头\n",
    "\n",
    "- init-statement必须是以下三种形式中的一种：声明语句、表达式语句或者空语句\n",
    "- 如果condition第一次的求值结果就是false，则statement一次也不会执行\n",
    "- for语句头中定义的对象只在for循环体内可见"
   ]
  },
  {
   "cell_type": "markdown",
   "metadata": {},
   "source": [
    "#### for语句头中的多重定义"
   ]
  },
  {
   "cell_type": "markdown",
   "metadata": {},
   "source": [
    "- 和其它的声明一样，init-statement也可以定义多个对象，但是只能有一条声明语句，因此，所有变量的基础类型必须相同\n",
    "```c++\n",
    "for (decltype(v.size()) i = 0, sz = v.size(); i != sz; ++i)\n",
    "    v.push_back(v[i]);\n",
    "```"
   ]
  },
  {
   "cell_type": "markdown",
   "metadata": {},
   "source": [
    "#### 省略for语句头的某些部分"
   ]
  },
  {
   "cell_type": "markdown",
   "metadata": {},
   "source": [
    "- for语句头能省略掉init-statement、condition和expression中的任何一个（或者全部），但是分号必须保留（空语句）\n",
    "- 循环体也可以省略，采用空语句替换"
   ]
  },
  {
   "cell_type": "markdown",
   "metadata": {},
   "source": [
    "### 5.4.3 范围for语句"
   ]
  },
  {
   "cell_type": "markdown",
   "metadata": {},
   "source": [
    "- C++11新标准引入了一种更简单的for语句，这种语句可以遍历容器或其他序列的所有元素，范围for语句（range for statement）的语法形式是：\n",
    "```c++\n",
    "for (declaration : expression)\n",
    "    statement\n",
    "```\n",
    "- expression表示的必须是一个序列，比如花括号括起来的初始值列表、数组或者vector或string等类型的对象，这些类型的共同特点是拥有能返回迭代器的begin和end成员\n",
    "- declaration定义一个变量，序列中的每个元素都得能转换成该变量的类型，确保类型相容最简单的办法是使用auto类型说明符；如果需要对序列中的元素执行写操作，循环变量必须声明成引用类型\n",
    "- 每次迭代都会重新定义循环控制变量，并将其初始化成序列中的下一个值，之后才会执行statement"
   ]
  },
  {
   "cell_type": "markdown",
   "metadata": {},
   "source": [
    "### 5.4.4 do while语句"
   ]
  },
  {
   "cell_type": "markdown",
   "metadata": {},
   "source": [
    "- do while语句（do while statement）和while语句非常相似，唯一的区别是，do while语句先执行循环体后检查条件，不管条件的值如何，都至少执行一次循环\n",
    "```c++\n",
    "do\n",
    "    statement\n",
    "while (condition);\n",
    "```"
   ]
  },
  {
   "cell_type": "markdown",
   "metadata": {},
   "source": [
    "## 5.5 跳转语句"
   ]
  },
  {
   "cell_type": "markdown",
   "metadata": {},
   "source": [
    "- 跳转语句中断当前的执行过程，C++语言提供了4种跳转语句：break、continue、goto和return"
   ]
  },
  {
   "cell_type": "markdown",
   "metadata": {},
   "source": [
    "## 5.6 try语句块和异常处理"
   ]
  },
  {
   "cell_type": "markdown",
   "metadata": {},
   "source": [
    "- 异常是指存在于运行时的反常行为，这些行为超出了函数正常功能的范围\n",
    "- 异常处理机制为程序中异常检测和异常处理这两部分的协作提供支持\n",
    "- throw表达式：异常检测部分使用throw表达式来表示它遇到了无法处理的问题，我们说throw引发（raise）了异常\n",
    "- try语句块：异常处理部分使用try语句块处理异常，try语句块以关键字try开始，并以一个或多个catch子句结束；try语句块中代码抛出的异常通常会被某个catch子句处理"
   ]
  },
  {
   "cell_type": "markdown",
   "metadata": {},
   "source": [
    "### 5.6.1 throw表达式"
   ]
  },
  {
   "cell_type": "markdown",
   "metadata": {},
   "source": [
    "- throw表达式包含关键字throw和紧随其后的一个表达式，其中表达式的类型就是抛出的异常类型\n",
    "```c++\n",
    "// 类型runtime_error是标准库异常类型的一种\n",
    "if (item1.isbn() != item2.isbn())\n",
    "    throw runtime_error(\"Data must refer to same ISBN\");\n",
    "cout << item1 + item2 << endl;\n",
    "```"
   ]
  },
  {
   "cell_type": "markdown",
   "metadata": {},
   "source": [
    "### 5.6.2 try语句块"
   ]
  },
  {
   "cell_type": "markdown",
   "metadata": {},
   "source": [
    "- try语句块的通用语法形式是\n",
    "```c++\n",
    "try {\n",
    "    program-statements\n",
    "} catch (exception-declaration) {\n",
    "    handler-statements\n",
    "} catch (exception-declaration) {\n",
    "    handler-statements\n",
    "}\n",
    "```\n",
    "- catch子句包括三部分：关键字catch、括号内一个（可能未命名的）对象的声明（称作异常声明，exception declaration）以及一个块；当选中了某个catch子句处理异常之后，执行与之对应的块；catch一旦完成，程序跳转到try语句块最后一个catch子句之后的那条语句继续执行\n",
    "- 如果没有catch子句能够匹配，程序转到名为terminate的标准库函数，该函数的行为与系统有关，一般情况下，执行该函数将导致程序非正常退出"
   ]
  }
 ],
 "metadata": {
  "kernelspec": {
   "display_name": "Python 2",
   "language": "python",
   "name": "python2"
  },
  "language_info": {
   "codemirror_mode": {
    "name": "ipython",
    "version": 2
   },
   "file_extension": ".py",
   "mimetype": "text/x-python",
   "name": "python",
   "nbconvert_exporter": "python",
   "pygments_lexer": "ipython2",
   "version": "2.7.10"
  }
 },
 "nbformat": 4,
 "nbformat_minor": 2
}
