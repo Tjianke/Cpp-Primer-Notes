{
 "cells": [
  {
   "cell_type": "markdown",
   "metadata": {},
   "source": [
    "# 第6章 函数"
   ]
  },
  {
   "cell_type": "markdown",
   "metadata": {},
   "source": [
    "## 6.1 函数基础"
   ]
  },
  {
   "cell_type": "markdown",
   "metadata": {},
   "source": [
    "- 一个典型的函数（function）定义包括以下部分：返回类型（return type）、函数名字、由0个或多个形参（parameter）组成的列表以及函数体\n",
    "- 函数执行的操作在语句块中说明，该语句块称为函数体（function body）"
   ]
  },
  {
   "cell_type": "markdown",
   "metadata": {},
   "source": [
    "### 调用函数"
   ]
  },
  {
   "cell_type": "markdown",
   "metadata": {},
   "source": [
    "- 函数的调用完成两项工作：一是用实参初始化函数调用的形参，二是将控制权转移给被调用函数；此时，主调函数（calling function）的执行被暂时中断，被调函数（called function）开始执行\n",
    "- 和函数调用一样，return语句也完成两项工作：一是返回return语句中的值（如果有的话），二是将控制权从被调函数转移回主调函数"
   ]
  },
  {
   "cell_type": "markdown",
   "metadata": {},
   "source": [
    "### 形参和实参"
   ]
  },
  {
   "cell_type": "markdown",
   "metadata": {},
   "source": [
    "- 实参是形参的初始值，第一个实参初始化第一个形参，第二个实参初始化第二个形参，以此类推；尽管实参和形参存在对应关系，但是并没有规定实参的求值顺序\n",
    "- 实参的类型必须与对应的形参类型匹配"
   ]
  },
  {
   "cell_type": "markdown",
   "metadata": {},
   "source": [
    "### 函数的形参列表"
   ]
  },
  {
   "cell_type": "markdown",
   "metadata": {},
   "source": [
    "- 定义一个不带形参的函数，有以下两种方式：\n",
    "```c++\n",
    "void f1() {};\n",
    "void f2(void) {}; // 与C语言兼容\n",
    "```"
   ]
  },
  {
   "cell_type": "markdown",
   "metadata": {},
   "source": [
    "### 函数返回类型"
   ]
  },
  {
   "cell_type": "markdown",
   "metadata": {},
   "source": [
    "- 大多数类型都能用作函数的返回类型；一种特殊的返回类型是void，它表示函数不返回任何值；函数的返回类型不能是数组类型或函数类型，但可以是指向数组或函数的指针"
   ]
  },
  {
   "cell_type": "markdown",
   "metadata": {},
   "source": [
    "### 6.1.1 局部对象"
   ]
  },
  {
   "cell_type": "markdown",
   "metadata": {},
   "source": [
    "- 在C++中，名字有作用域，对象有生命周期（lifetime）：名字的作用域是程序文本的一部分，名字在其中可见；对象的生命周期是程序执行过程中该对象存在的一段时间\n",
    "- 函数体是一个语句块，构成一个新的作用域，形参和函数体内部定义的变量统称为局部变量（local variable），它们仅在函数的作用域内可见\n",
    "- 在所有函数体之外定义的对象存在于程序的整个执行过程中，此类对象在程序启动时被创建，知道程序结束才会销毁；局部变量的生命周期则依赖于定义的方式，下面进行细述"
   ]
  },
  {
   "cell_type": "markdown",
   "metadata": {},
   "source": [
    "#### 自动对象"
   ]
  },
  {
   "cell_type": "markdown",
   "metadata": {},
   "source": [
    "- 对于普通局部变量对应的对象来说，当函数的控制路径经过变量定义语句时创建该对象，当到达定义所在的块末尾时销毁它，像这种只存在于块执行期间的对象称为自动对象（automatic object），形参是一种自动对象\n",
    "- 对于局部变量对应的自动对象来说，如果变量定义本身含有初始值，就用这个初始值进行初始化，否则执行默认初始化，这意味着内置类型的未初始化局部变量将产生未定义的值"
   ]
  },
  {
   "cell_type": "markdown",
   "metadata": {},
   "source": [
    "#### 局部静态对象"
   ]
  },
  {
   "cell_type": "markdown",
   "metadata": {},
   "source": [
    "- 某些时候，有必要令局部对象的生命周期贯穿函数调用及之后的时间，可以将局部变量定义成static类型从而获得这样的对象\n",
    "- 局部静态对象（local）在程序的执行路径第一次经过对象定义语句时初始化，并且直到程序终止才被销毁\n",
    "```c++\n",
    "size_t count_calls() {\n",
    "    static size_t ctr = 0; // 控制流第一次经过此时，ctr被创建并初始化为0，其后的每次调用，ctr的值都等于函数上一次退出时ctr的值\n",
    "    return ++ctr;\n",
    "}\n",
    "int main() {\n",
    "    for (size_t i = 0; i != 10; ++i) {\n",
    "        cout << count_calls() << endl;\n",
    "    }\n",
    "    return 0;\n",
    "}\n",
    "```\n",
    "- 如果局部静态变量没有显式的初始值，它将执行值初始化，内置类型的局部静态变量初始化为0"
   ]
  },
  {
   "cell_type": "markdown",
   "metadata": {},
   "source": [
    "### 6.1.2 函数声明"
   ]
  },
  {
   "cell_type": "markdown",
   "metadata": {},
   "source": [
    "- 和其它名字一样，函数的名字也必须在使用之前声明；类似于变量，函数只能定义一次，但可以声明多次；如果一个函数永远也不会被我们用到那么它可以只有声明没有定义\n",
    "- 函数的声明和定义非常类似，唯一的区别是函数声明无需函数体，用一个分号替代即可；因为函数的声明不包括函数体，所以也就无须形参的名字\n",
    "- 函数声明也称作函数原型（function prototype）\n",
    "- 函数应该在头文件中声明而在源文件中定义"
   ]
  },
  {
   "cell_type": "markdown",
   "metadata": {},
   "source": [
    "### 6.1.3 分离式编译"
   ]
  },
  {
   "cell_type": "markdown",
   "metadata": {},
   "source": [
    "- 分离式编译（separate compilation）允许我们把程序分割到几个文件中去，每个文件独立编译"
   ]
  },
  {
   "cell_type": "markdown",
   "metadata": {},
   "source": [
    "## 6.2 参数传递"
   ]
  },
  {
   "cell_type": "markdown",
   "metadata": {},
   "source": [
    "- 每次调用函数时都会重新创建它的形参，并用传入的实参对形参进行初始化\n",
    "- 形参的类型决定了形参和实参交互的方式，如果形参是引用类型，我们说它对应的实参被引用传递（passed by reference）或者函数被传引用调用（called by reference），引用形参是它对应实参的别名；否则，实参的值会被拷贝给形参，形参和实参是两个相互独立的对象，我们说这样的实参被值传递（passed by value）或者函数被传值调用（called by value）"
   ]
  },
  {
   "cell_type": "markdown",
   "metadata": {},
   "source": [
    "### 6.2.1 传值参数"
   ]
  },
  {
   "cell_type": "markdown",
   "metadata": {},
   "source": [
    "- 当初始化一个非引用类型的变量时，初始值被拷贝给变量，此时对变量的改动不会影响初始值，传值参数的机理完全一样\n",
    "- 指针的行为和其它非引用类型一样，当执行指针拷贝操作时，拷贝的是指针的值，两个指针是不同的指针，不过我们可以通过指针修改它所指对象的值，指针形参的行为与之类似\n",
    "- 在C++中，建议使用引用类型的形参代替指针"
   ]
  },
  {
   "cell_type": "markdown",
   "metadata": {},
   "source": [
    "### 6.2.2 传引用参数"
   ]
  },
  {
   "cell_type": "markdown",
   "metadata": {},
   "source": [
    "- 通过使用引用形参，允许函数改变一个或多个实参的值\n",
    "- 拷贝大的类类型或者容器对象比较低效，甚至有的类类型（包括IO类型在内）根本就不支持拷贝操作，这些情况下，使用引用形参是比较明智的选择\n",
    "- 一个函数只能返回一个值，然而有时函数需要同时返回多个值，引用形参为我们一次返回多个结果提供了有效的途径"
   ]
  },
  {
   "cell_type": "markdown",
   "metadata": {},
   "source": [
    "### 6.2.3 const形参和实参"
   ]
  },
  {
   "cell_type": "markdown",
   "metadata": {},
   "source": [
    "- 和其它初始化过程一样，当用实参初始化形参时会忽略掉顶层const，也即，当形参有顶层const时，传给它常量对象或者非常量对象都是可以的\n",
    "```c++\n",
    "void fcn(const int i) {/* fcn能够读取i，但是不能向i写值 */}\n",
    "```"
   ]
  },
  {
   "cell_type": "markdown",
   "metadata": {},
   "source": [
    "#### 指针或引用形参与const"
   ]
  },
  {
   "cell_type": "markdown",
   "metadata": {},
   "source": [
    "- 形参的初始化方式和变量的初始化方式是一样的，我们可以使用非常量初始化一个底层const对象，但是反过来不行，这些规则也适用于参数传递"
   ]
  },
  {
   "cell_type": "markdown",
   "metadata": {},
   "source": [
    "#### 尽量使用常量引用"
   ]
  },
  {
   "cell_type": "markdown",
   "metadata": {},
   "source": [
    "- 把函数不会改变的形参定义成（普通的）引用是一种比较常见的错误，这么做带给函数的调用者一种误导，即函数可以修改它的实参的值；此外，使用引用而非常量引用也会极大地限制函数所能接受的实参类型，例如，我们不能把const对象、字面值或者需要类型转换的对象传递给普通的引用形参\n",
    "- 另外，假如其它函数（正确地）将它们的形参定义成常量引用，那么，采用普通引用形参的函数将在此类函数中无法使用"
   ]
  },
  {
   "cell_type": "markdown",
   "metadata": {},
   "source": [
    "### 6.2.4 数组形参"
   ]
  },
  {
   "cell_type": "markdown",
   "metadata": {},
   "source": [
    "- 数组的两个特殊性质对我们定义和使用作用在数组上的函数有影响，这两个性质分别是：不允许拷贝数组以及使用数组时（通常）会将其转换成指针\n",
    "- 因为不能拷贝数组，所以无法以值传递的方式使用数组参数，因为数组会被转换成指针，所以当我们为函数传递一个数组时，实际上传递的是指向数组首元素的指针\n",
    "\n",
    "```c++\n",
    "// 尽管形式不同，但这三个print函数是等价的\n",
    "// 每个函数都有一个const int*类型的形参\n",
    "void print(const int*);\n",
    "void print(const int[]);\n",
    "void print(const int[10]); // 这里的维度表示我们期望数组含有多少元素，实际不一定\n",
    "\n",
    "int i = 0, j[2] = {0, 1};\n",
    "print(&i); // 正确\n",
    "print(j); // 正确\n",
    "```"
   ]
  },
  {
   "cell_type": "markdown",
   "metadata": {},
   "source": [
    "#### 数组引用形参"
   ]
  },
  {
   "cell_type": "markdown",
   "metadata": {},
   "source": [
    "- C++允许将变量定义成数组的引用，因此，形参也可以是数组的引用，此时，引用形参绑定到对应的数组上\n",
    "```c++\n",
    "// 维度是类型的一部分，因此形参必须为包含10个元素的数组\n",
    "void print(int (&arr)[10]) {\n",
    "    for (auto elem : arr) {\n",
    "        cout << elem << endl;\n",
    "    }\n",
    "}\n",
    "```"
   ]
  },
  {
   "cell_type": "markdown",
   "metadata": {},
   "source": [
    "### 6.2.6 含有可变形参的参数"
   ]
  },
  {
   "cell_type": "markdown",
   "metadata": {},
   "source": [
    "- 为了能编写处理不同数量实参的函数，C++11新标准提供了两种主要方法：如果所有实参类型相同，可以传递一个名为initializer_list的标准库类型；如果实参的类型不同，可以编写一种特殊的函数，也就是说所谓的可变参数模板\n",
    "- C++还有一种特殊的形参类型（即省略符），可以用它传递可变数量的实参，不过这一般只用于与C函数交互的接口程序"
   ]
  },
  {
   "cell_type": "markdown",
   "metadata": {},
   "source": [
    "## 6.3 返回类型和return语句"
   ]
  },
  {
   "cell_type": "markdown",
   "metadata": {},
   "source": [
    "- return语句终止当前正在执行的函数并将控制权返回到调用该函数的地方，return语句有两种形式：`return`和`return expression`"
   ]
  },
  {
   "cell_type": "markdown",
   "metadata": {},
   "source": [
    "### 6.3.1 无返回值函数"
   ]
  },
  {
   "cell_type": "markdown",
   "metadata": {},
   "source": [
    "- 没有返回值的return语句只能用在返回类型是void的函数中，返回void的函数不要求非得有return语句，因为在这类函数的最后一句后面会隐式地执行return；通常情况下，void函数如果想在它的中间位置提前退出，可以使用return语句\n",
    "- 一个返回类型是void的函数也能使用return语句的第二种形式，不过此时return语句的expression必须是另一个返回void的函数"
   ]
  },
  {
   "cell_type": "markdown",
   "metadata": {},
   "source": [
    "### 6.3.2 有返回值函数"
   ]
  },
  {
   "cell_type": "markdown",
   "metadata": {},
   "source": [
    "- return语句的第二种形式提供了函数的结果；只要函数的返回类型不是void，则该函数内的每条return语句必须返回一个值；return语句返回值的类型必须与函数的返回类型相同，或者能隐式地转换成函数的返回类型"
   ]
  },
  {
   "cell_type": "markdown",
   "metadata": {},
   "source": [
    "#### 不要返回局部对象的引用或指针"
   ]
  },
  {
   "cell_type": "markdown",
   "metadata": {},
   "source": [
    "- 函数完成后，它所占用的存储空间也随之被释放掉，因此，函数终止意味着局部变量的引用将指向不再有效的内存区域\n",
    "```c++\n",
    "const string &manip() {\n",
    "    string ret;\n",
    "    if (!ret.empty()) {\n",
    "        return ret;\n",
    "    } else {\n",
    "        return \"Empty\";\n",
    "    }\n",
    "}\n",
    "```\n",
    "- 返回局部对象的指针也是错误的，一旦函数完成，局部对象被释放，指针将指向一个不存在的对象"
   ]
  },
  {
   "cell_type": "markdown",
   "metadata": {},
   "source": [
    "#### 引用返回左值"
   ]
  },
  {
   "cell_type": "markdown",
   "metadata": {},
   "source": [
    "- 调用一个返回引用的函数得到左值，其它返回类型得到右值，可以像使用其它左值那样来使用返回引用的函数的调用，特别是，我们能为返回类型是非常量引用的函数的结果赋值"
   ]
  },
  {
   "cell_type": "markdown",
   "metadata": {},
   "source": [
    "#### 列表初始化返回值"
   ]
  },
  {
   "cell_type": "markdown",
   "metadata": {},
   "source": [
    "- C++11新标准规定，函数可以返回花括号包围的值的列表，类似于其它返回结果，此处的列表也用来对表示函数返回的临时量进行初始化，如果列表为空，临时量执行值初始化，否则，返回的值由函数的返回类型决定"
   ]
  },
  {
   "cell_type": "markdown",
   "metadata": {},
   "source": [
    "#### 主函数main的返回值"
   ]
  },
  {
   "cell_type": "markdown",
   "metadata": {},
   "source": [
    "- 允许main函数没有return语句直接结束，这时候编译器将隐式地插入一条返回0的return语句"
   ]
  },
  {
   "cell_type": "markdown",
   "metadata": {},
   "source": [
    "### 6.3.3 返回数组指针"
   ]
  },
  {
   "cell_type": "markdown",
   "metadata": {},
   "source": [
    "- 因为数组不能被拷贝，所以函数不能返回数组，不过，函数可以返回数组的指针或引用；虽然从语法上来说，要想定义一个返回数组的指针或引用的函数比较繁琐，但是有一些方法可以简化这一任务"
   ]
  },
  {
   "cell_type": "markdown",
   "metadata": {},
   "source": [
    "## 6.4 函数重载"
   ]
  },
  {
   "cell_type": "markdown",
   "metadata": {},
   "source": [
    "- 如果同一作用域内的几个函数名字相同但形参列表不同（形参数量或形参类型），我们称之为重载（overloaded）函数\n",
    "- 当调用这些函数时，编译器会根据传递的实参类型推断想要的是哪个函数\n",
    "- main函数不能重载\n",
    "- 不允许两个函数除了返回类型外其他所有的要素都相同"
   ]
  },
  {
   "cell_type": "markdown",
   "metadata": {},
   "source": [
    "### 重载和const形参"
   ]
  },
  {
   "cell_type": "markdown",
   "metadata": {},
   "source": [
    "- 顶层const不影响传入函数的对象，一个拥有顶层const的形参无法和另一个没有顶层const的形参区分开来\n",
    "- 如果形参是某种类型的指针或引用，则通过区分其指向的是常量对象还是非常量对象可以实现函数重载，此时的const是底层的"
   ]
  },
  {
   "cell_type": "markdown",
   "metadata": {},
   "source": [
    "### 调用重载的函数"
   ]
  },
  {
   "cell_type": "markdown",
   "metadata": {},
   "source": [
    "- 当调用重载函数时有三种可能得结果：1).编译器找到一个与实参最佳匹配（best match）的函数，并生成调用该函数的代码；2).找不到任何一个函数与调用的实参匹配，此时编译器发出无匹配（no match）的错误信息；2).有多于一个函数可以匹配，但是每一个都不是明显的最佳选择，此时也将发生错误，称为二义调用性（ambiguous call）"
   ]
  },
  {
   "cell_type": "markdown",
   "metadata": {},
   "source": [
    "### 重载与作用域"
   ]
  },
  {
   "cell_type": "markdown",
   "metadata": {},
   "source": [
    "- 如果我们在内层作用域中声明名字，它将隐藏外层作用域中声明的同名实体，在不同的作用域中无法重载函数名"
   ]
  },
  {
   "cell_type": "markdown",
   "metadata": {},
   "source": [
    "## 6.5 特殊用途语言特性"
   ]
  },
  {
   "cell_type": "markdown",
   "metadata": {},
   "source": [
    "### 6.5.1 默认实参"
   ]
  },
  {
   "cell_type": "markdown",
   "metadata": {},
   "source": [
    "- 默认实参作为形参的初始值出现在形参列表中，我们可以为一个或多个形参定义默认值，不过，一旦某个形参被赋予了默认值，它后面的所有形参都必须有默认值\n",
    "- 多次声明一个函数是合法的，但是，在给定的作用域中一个形参只能被赋予一次默认实参，换句话说，函数的后续声明只能为之前那些没有默认值的形参添加默认实参"
   ]
  },
  {
   "cell_type": "markdown",
   "metadata": {},
   "source": [
    "### 6.5.2 内联函数和constexpr函数"
   ]
  },
  {
   "cell_type": "markdown",
   "metadata": {},
   "source": [
    "- 内联函数可避免函数调用的开销，一般来说，内联机制用于优化规模较小、流程直接、频繁调用的函数\n",
    "- constexpr函数（constexpr function）是指能用于常量表达式的函数，它的定义与其他函数类似，不过要遵循几项约定：函数的返类型及所有形参的类型都得是字面值类型，而且函数体中必须有且只有一条return语句\n",
    "- 内联函数和constexpr函数可以在程序中多次定义，但是所有的定义必须一致，因此，它们常常定义在头文件中"
   ]
  },
  {
   "cell_type": "markdown",
   "metadata": {},
   "source": [
    "## 6.6 函数匹配"
   ]
  },
  {
   "cell_type": "markdown",
   "metadata": {},
   "source": [
    "- 函数匹配的第一步是选定本次调用对应的重载函数集，集合中的函数称为候选函数（candidate function），候选函数具备两个特征：一是与被调用的函数同名，二是其声明在调用点可见\n",
    "- 第二步是考察本次调用提供的实参，然后从候选函数中选出能被这组实参调用的函数，这些新选出的函数称为可行函数（viable function），可行参数也有两个特征：一是其形参数量与本次调用提供的实参数量相等，二是每个实参的类型与对应的形参类型相同，或者能转换成形参的类型\n",
    "- 第三步是从可行函数中选择与本次调用最匹配的函数，如果没有任何一个函数能够脱颖而出，则该调用是错误的，编译器将报告二义性调用的信息"
   ]
  },
  {
   "cell_type": "markdown",
   "metadata": {},
   "source": [
    "## 6.7 函数指针"
   ]
  },
  {
   "cell_type": "markdown",
   "metadata": {},
   "source": [
    "- 函数指针指向的是函数而非对象，和其它指针一样，函数指针指向某种特定类型，函数的类型由它的返回类型和形参类型共同决定，与函数名无关\n",
    "- 要想声明一个可以指向函数的指针，只需要用指针替换函数名即可\n",
    "```c++\n",
    "bool lengthCompare(const string &, const string &);\n",
    "bool (*pf)(const string &, const string &); // 未初始化\n",
    "```"
   ]
  },
  {
   "cell_type": "markdown",
   "metadata": {},
   "source": [
    "### 使用函数指针"
   ]
  },
  {
   "cell_type": "markdown",
   "metadata": {},
   "source": [
    "- 当我们把函数名作为一个值使用时，该函数自动地转换成指针\n",
    "- 此外，我们还能直接使用指向函数的指针调用该函数，无须提前解引用指针\n",
    "```c++\n",
    "pf = lengthCompare;\n",
    "pf = &lengthCompare; // 二者等价\n",
    "bool b1 = pf(\"hello\", \"goodbye\");\n",
    "bool b2 = (*pf)(\"hello\", \"goodbye\");\n",
    "bool b3 = lengthCompare(\"hello\", \"goodbye\"); // 三者等价\n",
    "```\n",
    "- 指向不同函数类型的指针间不存在转换规则，但是我们依然可以为函数赋值nullptr或值为0的整型常量表达式，表示该指针没有指向任何一个函数\n",
    "```c++\n",
    "string::size_type sumLength(const string &, const string &);\n",
    "bool cstringCompare(const char*, const char*);\n",
    "pf = 0; // 正确，pf不指向任何函数\n",
    "pf = sumLength; // 错误：返回类型不匹配\n",
    "pf = cstringCompare; // 错误：形参类型不匹配\n",
    "pf = lengthCompare; // 正确：函数和指针的类型精准匹配\n",
    "```"
   ]
  },
  {
   "cell_type": "markdown",
   "metadata": {},
   "source": [
    "### 函数指针形参"
   ]
  },
  {
   "cell_type": "markdown",
   "metadata": {},
   "source": [
    "- 和数组类似，虽然不能定义函数类型的形参，但是形参可以是指向函数的指针，此时，形参看起来是函数类型，实际上却是当成指针使用\n",
    "```c++\n",
    "void useBigger(const string &s1, const string &s2, bool pf(const string &, const string &)); // 第三个形参是函数类型，它会自动地转换成指向函数的指针\n",
    "void useBigger(const string &s1, const string &s2, bool (*pf)(const string &, const string &)); // 等价的声明：显式地将形参定义成指向函数的指针\n",
    "```\n",
    "- 可以直接把函数作为实参使用，此时它会自动转换成指针\n",
    "```c++\n",
    "useBigger(s1, s2, lengthCompare)\n",
    "```\n",
    "- 直接使用函数指针类型显得冗长而烦琐，使用typedef和decltype能让我们简化使用了函数指针的代码"
   ]
  },
  {
   "cell_type": "markdown",
   "metadata": {},
   "source": [
    "### 返回指向函数的指针"
   ]
  },
  {
   "cell_type": "markdown",
   "metadata": {},
   "source": [
    "- 和数组类似，虽然不能返回一个函数，但是能返回指向函数类型的指针，然而，我们必须把返回类型写成指针形式，编译器不会自动地将函数返回类型当成对应的指针类型处理；与往常一样，要想声明一个返回函数指针的函数，最简单的方法是使用类型别名\n",
    "```c++\n",
    "using F = int(int*, int); // F是函数类型，不是指针\n",
    "using PF = int(*)(int*, int); // PF是指针类型\n",
    "PF f1(int); // 正确：PF是指向函数的指针，f1返回指向函数的指针\n",
    "F f1(int); // 错误：F是函数类型，f1不能返回一个函数\n",
    "F *f1(int); // 正确：显式地指定返回类型是指向函数的指针\n",
    "int (*f1(int))(int*, int); // 正确：最直接的方式\n",
    "```"
   ]
  }
 ],
 "metadata": {
  "kernelspec": {
   "display_name": "Python 2",
   "language": "python",
   "name": "python2"
  },
  "language_info": {
   "codemirror_mode": {
    "name": "ipython",
    "version": 2
   },
   "file_extension": ".py",
   "mimetype": "text/x-python",
   "name": "python",
   "nbconvert_exporter": "python",
   "pygments_lexer": "ipython2",
   "version": "2.7.10"
  }
 },
 "nbformat": 4,
 "nbformat_minor": 2
}
