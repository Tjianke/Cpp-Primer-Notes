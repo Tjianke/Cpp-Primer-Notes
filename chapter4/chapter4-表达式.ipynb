{
 "cells": [
  {
   "cell_type": "markdown",
   "metadata": {},
   "source": [
    "## 第4章 表达式"
   ]
  },
  {
   "cell_type": "markdown",
   "metadata": {},
   "source": [
    "- C++提供了一套丰富的运算符，并定义了这些运算符作用于内置类型的运算对象时所执行的操作，同时，当运算对象是类类型时，C++也允许由用户指定上述运算符的含义\n",
    "- 表达式由一个或多个运算对象（operand）组成，对表达式求值将得到一个结果（result），字面值和变量是最简单的表达式（expression），其结果就是字面值和变量的值；把一个运算符（operator）和一个或多个运算对象组合起来可以生成较复杂的表达式"
   ]
  },
  {
   "cell_type": "markdown",
   "metadata": {},
   "source": [
    "## 4.1 基础"
   ]
  },
  {
   "cell_type": "markdown",
   "metadata": {},
   "source": [
    "### 4.1.1 基本概念"
   ]
  },
  {
   "cell_type": "markdown",
   "metadata": {},
   "source": [
    "- C++定义了一元运算符（unary operator）、二元运算符（binary operator）和三元运算符，区别在于它们作用于几个运算对象；函数调用也是一种特殊的运算符，它对运算对象的数量没有限制\n",
    "- 有些符号既能作为一元运算符也能作为二元运算符，如`*`，这取决于上下文，实际上这两种用法毫不相干\n",
    "- 对于含有多个运算符的复杂表达式来说，需要理解运算符的优先级（precedence）、结合律（associativity）以及运算对象的求值顺序（order of evaluation）\n",
    "- 在表达式求值的过程中，运算对象常常由一种类型转换成另外一种类型，例如，尽管一般的二元运算符都要求两个运算对象的类型相同，但是很多时候即使运算对象的类型不同也没关系，只要它们能被转换\n",
    "- 当运算符作用于类类型的运算对象时，用户可以自行定义其含义，这叫重载运算符（overloaded operator）；使用重载运算符时，运算对象的类型和返回值的类型，都是由该运算符定义的，但是运算对象的个数、运算符的优先级和结合律都是无法改变的"
   ]
  },
  {
   "cell_type": "markdown",
   "metadata": {},
   "source": [
    "### 4.1.3 求值顺序"
   ]
  },
  {
   "cell_type": "markdown",
   "metadata": {},
   "source": [
    "- 优先级规定了运算对象的组合方式，但是并没有说明运算对象按照什么顺序求值，在大多数情况下，不会明确指定求值的顺序\n",
    "```c++\n",
    "int i = f1() * f2(); // f1和f2一定会在执行乘法前被调用，但是我们无法知道到底先调用f1还是f2\n",
    "```\n",
    "- 对于那些没有指定执行顺序的运算符来说，如果表达式指向并修改了同一个对象，将会引发错误并产生未定义的行为\n",
    "```c++\n",
    "int i = 0;\n",
    "cout << i << \" \" << ++i << endl; // 编译器可能先求++i的值再求i的值，此时结果是1 1，也可能反过来，此时结果是0 1\n",
    "```\n",
    "- 有4种运算符明确规定了运算对象的求值顺序：&&、||、?:、,"
   ]
  },
  {
   "cell_type": "markdown",
   "metadata": {},
   "source": [
    "#### 求值顺序、优先级、结合律"
   ]
  },
  {
   "cell_type": "markdown",
   "metadata": {},
   "source": [
    "- 运算对象的求值顺序与优先级和结合律无关，在一条形如`f() + g() * h() + j()`的表达式中：a).优先级规定，g()的返回值和h()的返回值相乘；b).结合律规定，f()的返回值与g()和h()的乘积相加，所得结果再与j()的返回值相加；c).对于这些函数的调用顺序没有明确规定；如果四个函数是无关的，它们既不会改变同一对象的状态也不执行IO任务，那么函数的调用顺序不受限制，反之，如果其中某几个函数影响同一对象，则它是一条错误的表达式，将产生未定义的行为"
   ]
  },
  {
   "cell_type": "markdown",
   "metadata": {},
   "source": [
    "## 4.2 算术运算符"
   ]
  },
  {
   "cell_type": "markdown",
   "metadata": {},
   "source": [
    "- 运算对象和求值结果都是右值\n",
    "- 算术表达式有可能产生未定义的结果，一部分原因是数学性质本身，例如除数为0，另外一部分则源于计算机的特点，例如溢出，当计算结果超出该类型所能表示的范围时就会产生溢出"
   ]
  },
  {
   "cell_type": "markdown",
   "metadata": {},
   "source": [
    "## 4.3 逻辑和关系运算符"
   ]
  },
  {
   "cell_type": "markdown",
   "metadata": {},
   "source": [
    "- 这两类运算符，运算对象和求值结果都是右值\n",
    "- 关系运算符作用于算术类型或指针类型，逻辑运算符作用于任意能转换成布尔值的类型，逻辑运算符和关系运算符的返回值都是布尔类型；值为0的运算对象（算术类型或指针类型）表示假，否则表示真\n",
    "- 对于&&和||来说，都是先求左侧运算对象的值再求右侧运算对象的值，当且仅当左侧运算对象无法确定表达式的结果时才会计算右侧运算对象的值，这种策略称为短路求值（short-circuit evaluation）\n",
    "- 因为关系运算符的求值结果是布尔值，所以不要将几个关系运算符连写在一起"
   ]
  },
  {
   "cell_type": "markdown",
   "metadata": {},
   "source": [
    "## 4.4 赋值运算符"
   ]
  },
  {
   "cell_type": "markdown",
   "metadata": {},
   "source": [
    "- 赋值运算符的左侧运算对象必须是一个可修改的左值\n",
    "- 赋值运算的结果是它的左侧运算对象，并且是一个左值，结果的类型就是左侧运算对象的类型\n",
    "- C++允许用赋值运算作为条件：\n",
    "```c++\n",
    "if (i=j) // if语句的条件部分把j的值赋给i，然后检查赋值的结果是否为真，如果j不为0，条件将为真\n",
    "```"
   ]
  },
  {
   "cell_type": "markdown",
   "metadata": {},
   "source": [
    "## 4.5 递增和递减运算符"
   ]
  },
  {
   "cell_type": "markdown",
   "metadata": {},
   "source": [
    "- 递增和递减运算符有两种形式：前置版本和后置版本，区别在于，前置版本将改变后的对象作为求值结果（左值），后置版本的求值结果是运算对象改变之前那个值的副本（右值）\n",
    "- 后置版本需要将原始值存储下来以便于返回这个未修改的内容，这是一种浪费，所以建议使用前置版本\n",
    "- 如果我们想在一条复合表达式中既将变量加1或减1又能使用它原来的值，这时可以使用递增和递减运算符的后置版本：\n",
    "```c++\n",
    "// 这种用法十分常见，非常简洁\n",
    "auto pbeg = v.begin();\n",
    "while (pbeg != v.end() && *pbeg >= 0) {\n",
    "    cout << *pbeg++ << endl; // 后置递增运算符的优先级高于解引用运算符\n",
    "}\n",
    "```"
   ]
  },
  {
   "cell_type": "markdown",
   "metadata": {},
   "source": [
    "## 4.6 成员访问运算符"
   ]
  },
  {
   "cell_type": "markdown",
   "metadata": {},
   "source": [
    "- 箭头运算符与点运算符有关，表达式`ptr->mem`等价于`(*ptr).mem`"
   ]
  },
  {
   "cell_type": "markdown",
   "metadata": {},
   "source": [
    "## 4.7 条件运算符"
   ]
  },
  {
   "cell_type": "markdown",
   "metadata": {},
   "source": [
    "- 条件运算符（`?:`）允许我们把简单的if-else逻辑嵌入到单个表达式当中，条件运算符按照如下形式使用：`cond ? expr1 : expr2`，条件运算符的执行过程是：首先求cond的值，如果条件为真对expr1求值并返回该值，否则对expr2求值并返回该值\n",
    "```c++\n",
    "string finalgrade = (grade < 60) ? \"fail\" : \"pass\";\n",
    "```\n",
    "- 允许在条件运算符的内部嵌套另外一个条件运算符，也就是说，条件表达式可以作为另外一个条件运算符的cond或expr\n",
    "- 条件运算符的优先级非常低，因此当一条长表达式中嵌套了条件运算子表达式时，通常需要在它两端加上括号"
   ]
  },
  {
   "cell_type": "markdown",
   "metadata": {},
   "source": [
    "## 4.8 位运算符"
   ]
  },
  {
   "cell_type": "markdown",
   "metadata": {},
   "source": [
    "- 位运算符作用于整数类型的运算对象，并把运算对象看成是二进制位的集合；位运算符提供检查和设置二进制位的功能"
   ]
  },
  {
   "cell_type": "markdown",
   "metadata": {},
   "source": [
    "### 移位运算符"
   ]
  },
  {
   "cell_type": "markdown",
   "metadata": {},
   "source": [
    "- 首先令左侧运算对象的内容按照右侧运算对象的要求移动指定位数，然后将经过移动的（可能还进行了提升）左侧运算对象的拷贝作为求值结果"
   ]
  },
  {
   "cell_type": "markdown",
   "metadata": {},
   "source": [
    "## 4.9 sizeof运算符"
   ]
  },
  {
   "cell_type": "markdown",
   "metadata": {},
   "source": [
    "- sizeof返回一条表达式或一个类型名字所占的字节数，其所得值是一个size_t类型的常量表达式\n",
    "```c++\n",
    "sizeof(type);\n",
    "sizeof expr; // sizeof返回的是表达式结果类型的大小，但并不实际计算其运算对象的值\n",
    "```\n",
    "```c++\n",
    "Sales_data data, *p;\n",
    "sizeof(Sales_data); // 存储Sales_data类型的对象所占空间大小\n",
    "sizeof data; // 同上\n",
    "sizeof p; // 指针所占空间大小\n",
    "sizeof *p; // p所指类型的空间大小，同sizeof(Sales_data)\n",
    "sizeof data.revenue; // Sales_data的revenue成员对应类型的大小\n",
    "sizeof Sales_data::revenue; // 同上\n",
    "```\n",
    "- 对于`sizeof(*p)`来说，由于sizeof不会实际求运算对象的值，所以即使p是一个无效（即未初始化）的指针也不会有什么影响，在sizeof运算对象中解引用一个无效指针仍然是一种安全的行为\n",
    "- 对引用类型执行sizeof运算得到被引用对象所占空间的大小"
   ]
  },
  {
   "cell_type": "markdown",
   "metadata": {},
   "source": [
    "## 4.10 逗号运算符"
   ]
  },
  {
   "cell_type": "markdown",
   "metadata": {},
   "source": [
    "- 逗号运算符含有两个运算对象，按照从左至右的顺序依次求值，首先对左侧的表达式求值，然后将求值结果丢弃掉，逗号运算符真正的结果是右侧表达式的值"
   ]
  },
  {
   "cell_type": "markdown",
   "metadata": {},
   "source": [
    "## 4.11 类型转换"
   ]
  },
  {
   "cell_type": "markdown",
   "metadata": {},
   "source": [
    "- 在C++中，某些类型之间有关联，如果两种类型有关联，那么当程序需要其中一种类型的运算对象时，可以用另一种关联类型的对象或值来替代，换句话说，如果两种类型可以相互转换，那么它们就是关联的\n",
    "- 有些转换是自动执行的，无需程序员介入，被称作隐式转换（implicit conversion），常见的有：算术转换、数组转换成指针、指针的转换、转换成布尔类型、转换成常量、类类型的转换"
   ]
  },
  {
   "cell_type": "markdown",
   "metadata": {},
   "source": [
    "### 显式转换"
   ]
  },
  {
   "cell_type": "markdown",
   "metadata": {},
   "source": [
    "- 有时我们希望显式地将对象强制转换成另外一种类型，这叫做强制类型转换（cast）\n",
    "```c++\n",
    "int i, j;\n",
    "double slope = i / j; // 如果希望执行浮点数除法，就需要将i和j显式转换为double\n",
    "```"
   ]
  },
  {
   "cell_type": "markdown",
   "metadata": {},
   "source": [
    "#### 命名的强制类型转换"
   ]
  },
  {
   "cell_type": "markdown",
   "metadata": {},
   "source": [
    "- 一个命名的强制类型转换具有如下形式：\n",
    "```c++\n",
    "cast-name<type>(expression); // type是转换的目标类型，expression是要转换的值，cast-name指定了执行的是哪种转换，有static-cast、dynamic_cast、const_cast、reinterpret_cast\n",
    "```"
   ]
  },
  {
   "cell_type": "markdown",
   "metadata": {},
   "source": [
    "#### static_cast"
   ]
  },
  {
   "cell_type": "markdown",
   "metadata": {},
   "source": [
    "- 任何具有明确定义的类型转换，只要不包含底层const，都可以使用static_cast\n",
    "```c++\n",
    "double slope = static_cast<double>(j) / i;\n",
    "```\n",
    "- 当需要把一个较大的算术类型赋值给较小的类型时，static_cast非常有用，此时，强制类型转换告诉程序的读者和编译器：我们知道并且不在乎潜在的精度损失；一般来说，如果编译器发现一个较大的算术类型试图赋值给较小的类型，就会给出警告信息，但是当我们执行了显式的类型转换后，警告信息就会被关闭了\n",
    "- static_cast对于编译器无法自动执行的类型转换也非常有用，例如，我们可以使用static_cast找回存在于`void*`指针中的值：\n",
    "```c++\n",
    "void* p = &d;\n",
    "double *dp = static_cast<double*>(p); // 必须确保转换后所得的类型就是指针所指的类型\n",
    "```"
   ]
  },
  {
   "cell_type": "markdown",
   "metadata": {},
   "source": [
    "#### const_cast"
   ]
  },
  {
   "cell_type": "markdown",
   "metadata": {},
   "source": [
    "- const_cast可用于改变表达式的常量属性，但不能改变表达式的类型\n",
    "- const_cast只能改变运算对象的底层const"
   ]
  },
  {
   "cell_type": "markdown",
   "metadata": {},
   "source": [
    "## 小结"
   ]
  },
  {
   "cell_type": "markdown",
   "metadata": {},
   "source": [
    "- 表达式（expression）：C++程序中最低级别的计算；表达式将运算符作用于一个或多个运算对象，每个表达式都有对应的求值结果；表达式本身也可以作为运算对象，这时就得到了对多个运算符求值的符合表达式"
   ]
  },
  {
   "cell_type": "markdown",
   "metadata": {},
   "source": [
    "- 运算对象（operand）表达式在某些值上执行运算，这些值就是运算对象，一个运算符有一个或多个相关的运算对象"
   ]
  },
  {
   "cell_type": "markdown",
   "metadata": {},
   "source": [
    "- 运算符（operator）：决定表达式所做操作的符号"
   ]
  },
  {
   "cell_type": "markdown",
   "metadata": {},
   "source": [
    "### 左值和右值"
   ]
  },
  {
   "cell_type": "markdown",
   "metadata": {},
   "source": [
    "- C++的表达式要不然是右值（rvalue），要不然就是左值（lvalue）\n",
    "- 一个左值表达式的求值结果是一个对象或者一个函数，一个右值表达式的求值结果是一个值而非值所在的位置\n",
    "- 当一个对象被用作右值的时候，用的是对象的值（内容），当对象被用作左值的时候，用的是对象的身份（在内存中的位置）\n",
    "- 不同的运算符对运算对象的要求各不相同，有的需要左值运算对象，有的需要右值运算对象，返回值也有差异，有的得到左值结果，有的得到右值结果"
   ]
  }
 ],
 "metadata": {
  "kernelspec": {
   "display_name": "Python 2",
   "language": "python",
   "name": "python2"
  },
  "language_info": {
   "codemirror_mode": {
    "name": "ipython",
    "version": 2
   },
   "file_extension": ".py",
   "mimetype": "text/x-python",
   "name": "python",
   "nbconvert_exporter": "python",
   "pygments_lexer": "ipython2",
   "version": "2.7.10"
  }
 },
 "nbformat": 4,
 "nbformat_minor": 2
}
