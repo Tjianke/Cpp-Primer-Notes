{
 "cells": [
  {
   "cell_type": "markdown",
   "metadata": {},
   "source": [
    "# 第2章 变量和基本类型"
   ]
  },
  {
   "cell_type": "markdown",
   "metadata": {},
   "source": [
    "## 2.1 基本内置类型"
   ]
  },
  {
   "cell_type": "markdown",
   "metadata": {},
   "source": [
    "- C++定义了一套包括算术类型（arithmetic type）和空类型（void）在内的基本数据类型；其中算术类型包含了字符、整型数、布尔值和浮点数；空类型不对应具体的值，仅用于一些特殊场合，如函数不返回任何值时使用空类型作为返回类型（不能定义void类型的变量）"
   ]
  },
  {
   "cell_type": "markdown",
   "metadata": {},
   "source": [
    "### 2.1.1 算术类型"
   ]
  },
  {
   "cell_type": "markdown",
   "metadata": {},
   "source": [
    "- 算术类型分为两类：整型（integral type，包括字符和布尔类型在内）和浮点型\n",
    "- C++标准规定了不同算术类型所占比特数的最小值，同时允许编译器赋予这些类型更大比特数\n",
    "- 为了赋予内存中某个地址明确的含义，必须首先知道存储在该地址的数据的类型；类型决定了数据所占的比特数以及该如何解释这些比特的内容\n",
    "- 浮点型可表示单精度（float）、双精度（double）和扩展精度（long double）值"
   ]
  },
  {
   "cell_type": "markdown",
   "metadata": {},
   "source": [
    "#### 带符号类型和无符号类型"
   ]
  },
  {
   "cell_type": "markdown",
   "metadata": {},
   "source": [
    "- 除去布尔型和扩展的字符型之外，其它整型可以划分为带符号的（signed）和无符号的（unsigned）两种；带符号类型可以表示整数、负数或0，无符号类型则仅能表示大于等于0的值\n",
    "- 类型int、short、long和long long都是带符号的，加上unsigned即可成为无符号类型；字符型被分为char、signed char和unsigned char三种，类型char实际上会表现为后两者中的其一，具体由编译器决定"
   ]
  },
  {
   "cell_type": "markdown",
   "metadata": {},
   "source": [
    "### 2.1.2 类型转换"
   ]
  },
  {
   "cell_type": "markdown",
   "metadata": {},
   "source": [
    "- 对象的类型定义了对象能包含的数据和能参与的运算，其中一种运算被大多数类型支持，就是将对象从一种给定的类型转换（convert）为另一种相关类型\n",
    "- 当在程序的某处我们使用了一种类型而其实对象应该取另一种类型时，程序会自动进行类型转换\n",
    "```c++\n",
    "bool b = 42; // b为真\n",
    "int i = b; // i的值为1\n",
    "```\n",
    "- 赋给无符号类型一个超出它表示范围的值时，结果是初始值对无符号类型表示数值总数取模后的余数（赋值负数时，结果等于负数加上无符号类型最大值再加1）\n",
    "- 代码中应该避免无法预知和依赖于实现环境的行为"
   ]
  },
  {
   "cell_type": "markdown",
   "metadata": {},
   "source": [
    "#### 含有无符号类型的表达式"
   ]
  },
  {
   "cell_type": "markdown",
   "metadata": {},
   "source": [
    "- 尽管我们不会故意给无符号对象赋一个负值，却可能写出这么做的代码：当一个算术表达式中既有无符号数又有int值时，那个int值会先转换成无符号数，然后再参与运算；当从无符号数中减去一个值时，不管这个值是不是无符号数，结果都不能为负，否则也会将这个负数转换为无符号数\n",
    "```c++\n",
    "unsigned u = 10;\n",
    "unsigned u2 = 20;\n",
    "int i = -42;\n",
    "std::cout << u + i << std::endl; // 如果int为32位，则输出4294967264\n",
    "std::cout << u - u2 << std::endl; // 如果int为32位，则输出4294967286\n",
    "```\n",
    "- 表达式中切勿混用带符号类型和无符号类型"
   ]
  },
  {
   "cell_type": "markdown",
   "metadata": {},
   "source": [
    "### 2.1.3 字面值常量"
   ]
  },
  {
   "cell_type": "markdown",
   "metadata": {},
   "source": [
    "- 字面值常量的形式和值决定了它的数据类型\n",
    "- 可以将整型字面值写作十进制数、八进制数（0开头）或十六进制数（0x或0X开头）的形式；整型字面值具体的数据类型（short、int等）由它的值和符号决定\n",
    "- 浮点型字面值表现为一个小数或以科学计数法表示的指数（如：3.14E2），其中指数部分用E或e标识；默认的，浮点型字面值是一个double\n",
    "- 由单引号括起来的一个字符称为char型字面值，双引号括起来的零个或多个字符则构成字符串字面值；字符串字面值实际上是由常量构成的数组（array）；编译器在每个字符串的结尾处添加一个空字符'\\0'，因此，字符串字面值的实际长度要比它的内容多1\n",
    "- 可以使用泛化的转义序列，其形式是\\x后紧跟1个或多个十六进制数字，或者\\后紧跟1个、2个或3个八进制数字，其中数字部分表示的是字符对应的数值，如：\\115和\\x4d均表示字符M"
   ]
  },
  {
   "cell_type": "markdown",
   "metadata": {},
   "source": [
    "## 2.2 变量"
   ]
  },
  {
   "cell_type": "markdown",
   "metadata": {},
   "source": [
    "- 变量提供一个具名的、可供程序操作的存储空间，“变量（variable）”和”对象（object）“一般可以互换使用"
   ]
  },
  {
   "cell_type": "markdown",
   "metadata": {},
   "source": [
    "### 2.2.1 变量定义"
   ]
  },
  {
   "cell_type": "markdown",
   "metadata": {},
   "source": [
    "- 变量定义的基本形式是：首先是类型说明符（type specifier），随后紧跟由一个或多个变量名组成的列表，其中变量名以逗号分隔，最后以分号结束，列表中每个变量名的类型都由类型说明符指定，定义时还可以为一个或多个变量赋初值\n",
    "- 当对象在创建时获得了一个特定的值，我们说这个对象被初始化（initialized）了，用于初始化变量的值可以是任意复杂的表达式；初始化和赋值是两个完全不同的操作（有时候它们的区别无关紧要），初始化的含义是创建变量时赋予其一个初始值，而赋值的含义是把对象的当前值擦除，而以一个新值来替代"
   ]
  },
  {
   "cell_type": "markdown",
   "metadata": {},
   "source": [
    "#### 列表初始化"
   ]
  },
  {
   "cell_type": "markdown",
   "metadata": {},
   "source": [
    "- 作为C++11新标准的一部分，用花括号来初始化变量得到了全面应用，这被称为列表初始化（list initialization），列表初始化也可以在某些时候为对象赋新值\n",
    "```\n",
    "int units_sold{0};\n",
    "int units_sold = {0};\n",
    "```\n",
    "- 当列表初始化用于内置类型的变量时，如果存在丢失信息的风险，则编译器将报错\n",
    "```\n",
    "long double ld = 3.1415926536;\n",
    "int a{ld}, b = {ld}; // 错误，转换未执行，因为存在丢失信息的危险\n",
    "int c(ld), d = ld; // 正确，转换执行，且确实丢失了部分值\n",
    "```"
   ]
  },
  {
   "cell_type": "markdown",
   "metadata": {},
   "source": [
    "#### 默认初始化"
   ]
  },
  {
   "cell_type": "markdown",
   "metadata": {},
   "source": [
    "- 如果定义变量时没有指定初值，则变量被默认初始化（default initialized），此时变量被赋予了“默认值”，默认值由变量类型、变量位置决定\n",
    "- 如果内置类型的变量未被显式初始化，它的值由定义的位置决定，定义于任何函数体之外的变量被初始化为0，定义在函数体内部的变量将不被初始化（uninitialized）；一个未被初始化的内置类型变量的值是未定义的，如果试图拷贝或以其他形式访问此类值将引发错误\n",
    "- 每个类各自决定其初始化对象的方式，是否允许不经初始化就定义对象也由类自己决定，如果允许，它将决定对象的初始值是什么\n",
    "- 绝大多数类都支持无须显式初始化而定义对象，这样的类提供了一个合适的默认值（如string类对象的默认值为空串）；一些类要求每个对象都显式初始化，此时如果创建了一个该类的对象而未对其做明确的初始化操作，将引发错误"
   ]
  },
  {
   "cell_type": "markdown",
   "metadata": {},
   "source": [
    "### 2.2.2 变量声明和定义的关系"
   ]
  },
  {
   "cell_type": "markdown",
   "metadata": {},
   "source": [
    "- 为了支持分离式编译，C++语言将声明和定义区分开来；声明（declaration）使得名字为程序所知，一个文件如果想使用别处定义的名字则必须包含对那个名字的声明，而定义（definition）负责创建与名字关联的实体\n",
    "- 变量声明规定了变量的类型和名字，在这一点上定义与之相同，但是除此之外，定义还申请空间，也可能会为变量赋一个初始值\n",
    "- 如果想声明一个变量而非定义它，就在变量名前添加关键字extern，而且不要显式地初始化变量，任何包含了显式初始化的声明即成为定义\n",
    "- 在函数体内部，如果试图初始化一个由extern关键字标记的变量，将引发错误\n",
    "- 变量能且只能被定义一次，但是可以被多次声明；如果要在多个文件中使用同一个变量，就必须将声明和定义分离，变量的定义必须出现在且只能出现在一个文件中，而其他用到该变量的文件必须对其进行声明"
   ]
  },
  {
   "cell_type": "markdown",
   "metadata": {},
   "source": [
    "### 2.2.3 标识符"
   ]
  },
  {
   "cell_type": "markdown",
   "metadata": {},
   "source": [
    "- C++的标识符（identifier）由字母、数字和下划线组成，必须以字母或下划线开头；标识符的长度没有限制，但是对大小写字母敏感\n",
    "- C++语言保留了一些名字供语言本身使用，也为标准库保留了一些名字，这些都不能用作标识符"
   ]
  },
  {
   "cell_type": "markdown",
   "metadata": {},
   "source": [
    "### 2.2.4 名字的作用域"
   ]
  },
  {
   "cell_type": "markdown",
   "metadata": {},
   "source": [
    "- 作用域（scope）是程序的一部分，在其中名字有其特定的含义，C++语言中大多数作用域都以花括号分隔；\n",
    "- 名字的有效区域始于名字的声明语句，以声明语句所在的作用域末端为结束\n",
    "- 作用域中一旦声明了某个名字，它所嵌套着的所有作用域中都能访问该名字，同时，允许在内层作用域中重新定义外层作用域的名字\n",
    "- 全局作用域（global scope）本身没有名字，所以当作用域操作符的左侧为空时，会向全局作用域发出请求获取作用域操作符右侧名字对应的变量"
   ]
  },
  {
   "cell_type": "markdown",
   "metadata": {},
   "source": [
    "## 2.3 复合类型"
   ]
  },
  {
   "cell_type": "markdown",
   "metadata": {},
   "source": [
    "- 复合类型（compound type）是指基于其他类型定义的类型，C++语言有几种复合类型，“引用”（C++11新增了右值引用（rvalue reference），当我们使用术语“引用”时，一般指左值引用（lvalue reference））和“指针”就是其二\n",
    "- 一条声明语句由一个基本数据类型（base type）和紧随其后的一个声明符（declarator）列表组成，每个声明符命名了一个变量并指定该变量为与基本数据类型有关的某种类型（目前我们接触的声明语句中，声明符就是变量名）"
   ]
  },
  {
   "cell_type": "markdown",
   "metadata": {},
   "source": [
    "### 2.3.1 引用"
   ]
  },
  {
   "cell_type": "markdown",
   "metadata": {},
   "source": [
    "- 一般在初始化变量时，初始值会被拷贝到新建的对象中，然后定义引用时，程序把引用和它的初始值绑定在一起，而不是将初始值拷贝给引用；一旦初始化完成，引用将和它的初始对象一直绑定在一起，引用必须初始化\n",
    "- 引用并非对象，相反地，它只是为一个已经存在的对象所起的另一个名字；由于引用本身不是对象，故而不能定义引用的引用\n",
    "- 定义了一个引用之后，对其进行的所有操作都是在与之绑定的对象上进行的\n",
    "- 一般地，引用的类型要和与之绑定的对象严格匹配（有特例，后面我们会讲）；引用只能绑定在对象上，而不能与字面值或某个表达式的计算结果绑定在一起"
   ]
  },
  {
   "cell_type": "markdown",
   "metadata": {},
   "source": [
    "### 2.3.2 指针"
   ]
  },
  {
   "cell_type": "markdown",
   "metadata": {},
   "source": [
    "- 指针（pointer）是“指向”（point to）另外一种类型的复合类型，与引用类似，指针也实现了对其它对象的间接访问；指针与引用有许多不同：其一，指针本身就是一个对象，允许对指针赋值和拷贝，而且在指针的生命周期内它可以先后指向几个不同的对象；其二，指针无须在定义时赋初值，和其它内置类型一样，未被初始化的指针，拥有一个不确定的值\n",
    "- 指针存放某个对象的地址，要想获取该地址，需使用取地址符`&`\n",
    "- 引用不是对象，没有实际地址，所以不能定义指向引用的指针\n",
    "- 一般地，指针的类型要和它所指向的对象严格匹配（有特例，后面我们会讲）"
   ]
  },
  {
   "cell_type": "markdown",
   "metadata": {},
   "source": [
    "#### 指针值"
   ]
  },
  {
   "cell_type": "markdown",
   "metadata": {},
   "source": [
    "&emsp;&emsp;指针的值（即地址）应属下列4种状态之一：\n",
    "1. 指向一个对象\n",
    "2. 指向紧邻对象所占空间的下一个位置\n",
    "3. 空指针，意味着没有指向任何对象\n",
    "4. 无效指针， 也就是说上述情况之外的其他值\n",
    "\n",
    "&emsp;&emsp;访问无效指针的后果是无法预计的；第2、3种形式的指针虽然是有效的，但其使用同样受到限制，对它们的访问后果也是无法预计的"
   ]
  },
  {
   "cell_type": "markdown",
   "metadata": {},
   "source": [
    "#### 利用指针访问对象"
   ]
  },
  {
   "cell_type": "markdown",
   "metadata": {},
   "source": [
    "- 如果指针指向了一个对象，则允许使用解引用符`*`来访问该对象\n",
    "```c++\n",
    "int ival = 42;\n",
    "int *p = &ival;\n",
    "*p = 0;\n",
    "cout << *p;\n",
    "```"
   ]
  },
  {
   "cell_type": "markdown",
   "metadata": {},
   "source": [
    "- 像`&`和`*`这样的符号，既能用作表达式里的运算符，也能作为声明的一部分出现，符号的上下文决定了符号的意义"
   ]
  },
  {
   "cell_type": "markdown",
   "metadata": {},
   "source": [
    "#### 空指针"
   ]
  },
  {
   "cell_type": "markdown",
   "metadata": {},
   "source": [
    "- 空指针（null pointer）不指向任何对象，以下列出几个生成空指针的方法：\n",
    "```c++\n",
    "int *p1 = nullptr; // C++11新增，建议使用\n",
    "int *p2 = 0; // 若把int型变量直接赋值给指针，则错误，即使值刚好为0\n",
    "int *p3 = NULL; // NULL是一个预处理变量，在头文件cstdlib中定义\n",
    "```\n",
    "- 使用未经初始化的指针是引发运行时错误的一大原因，建议初始化所有指针（初始化为空指针也行）"
   ]
  },
  {
   "cell_type": "markdown",
   "metadata": {},
   "source": [
    "#### 其它指针操作"
   ]
  },
  {
   "cell_type": "markdown",
   "metadata": {},
   "source": [
    "- 在if测试中，任何非0指针对应的条件值都是true\n",
    "- 对于类型相同的合法指针，可以用相等操作符或不等操作符来比较它们，比较的结果是布尔类型，比较的是它们存放的地址值"
   ]
  },
  {
   "cell_type": "markdown",
   "metadata": {},
   "source": [
    "#### void* 指针"
   ]
  },
  {
   "cell_type": "markdown",
   "metadata": {},
   "source": [
    "- void* 是一种特殊的指针类型，可用于存放任意对象的地址\n",
    "- 利用void* 能做的事情有限：拿它和别的指针比较、作为函数的输入输出，或者赋值给另外一个void* 指针；不能直接操作void* 指针所指的对象（不能解引用），因为我们并不知道这个对象到底是什么类型，也就无法确定能在这个对象上做哪些操作"
   ]
  },
  {
   "cell_type": "markdown",
   "metadata": {},
   "source": [
    "### 2.3.3 理解复合类型的声明"
   ]
  },
  {
   "cell_type": "markdown",
   "metadata": {},
   "source": [
    "- 变量的定义包括一个基本数据类型（base type）和一组声明符，在同一条定义语句中，虽然基本数据类型只有一个，但是声明符的形式却可以不同（类型修饰符`&`或`*`只是声明符的一部分）\n",
    "```c++\n",
    "int i = 1024, *p = &i, &r = i;\n",
    "```\n",
    "- 一般来说，声明符中修饰符的个数并没有限制，当有多个修饰符连写在一起时，按照其逻辑关系详加解释即可"
   ]
  },
  {
   "cell_type": "markdown",
   "metadata": {},
   "source": [
    "#### 指向指针的指针"
   ]
  },
  {
   "cell_type": "markdown",
   "metadata": {},
   "source": [
    "- 指针是内存中的对象，因此允许把指针的地址再存放到另一个指针当中\n",
    "```c++\n",
    "int ival = 1024;\n",
    "int *pi = &ival;\n",
    "int **ppi = &pi;\n",
    "```"
   ]
  },
  {
   "cell_type": "markdown",
   "metadata": {},
   "source": [
    "#### 指向指针的引用"
   ]
  },
  {
   "cell_type": "markdown",
   "metadata": {},
   "source": [
    "- 引用本身不是对象，因此不能定义指向引用的指针，但是可以定义对指针的引用\n",
    "```c++\n",
    "int i = 42;\n",
    "int *p;\n",
    "int *&r = p; // 从右向左阅读r的定义，首先r是一个引用，然后它引用的是一个int指针\n",
    "r = &i;\n",
    "*r = 0;\n",
    "```"
   ]
  },
  {
   "cell_type": "markdown",
   "metadata": {},
   "source": [
    "## 2.4 const限定符"
   ]
  },
  {
   "cell_type": "markdown",
   "metadata": {},
   "source": [
    "- const对象一旦创建后其值就不能再改变，所以const对象必须初始化\n",
    "```c++\n",
    "const int i = get_size(); // 正确：运行时初始化\n",
    "const int j = 42; // 正确：编译时初始化\n",
    "const int k; // 错误：k是一个未经初始化的常量\n",
    "```\n",
    "- 与非const类型所能参与的操作相比，const类型的对象能完成其中大部分，即不改变其内容的操作\n",
    "- 如果利用一个对象去初始化另一个对象，则它们是不是const都无关紧要\n",
    "- 默认情况下，const对象被设定为仅在文件内有效，当多个文件中出现了同名的const变量时，其实等同于在不同文件中分别定义了独立的变量；如果不想为每个文件分别生成独立的变量，而只在一个文件中定义const，在其他多个文件中声明并使用它，可以在声明和定义时加上extern关键字（可以参考[这篇文章](https://blog.csdn.net/liuhhaiffeng/article/details/82623785)）\n",
    "```c++\n",
    "// file_1.cc定义并初始化了一个常量，该常量能被其他文件访问\n",
    "extern const int bufSize = fcn();\n",
    "// file_1.h头文件\n",
    "extern const int bufSize;\n",
    "```"
   ]
  },
  {
   "cell_type": "markdown",
   "metadata": {},
   "source": [
    "### 2.4.1 const的引用"
   ]
  },
  {
   "cell_type": "markdown",
   "metadata": {},
   "source": [
    "- 常量引用不能被用作修改它所绑定的对象\n",
    "- 对const对象的引用必须为常量引用\n",
    "```c++\n",
    "cosnt int ci = 1024;\n",
    "const int &r1 = ci; // 正确\n",
    "int &r2 = ci; // 错误\n",
    "```\n",
    "- 前面我们提到，引用的类型必须与其所引用对象的类型一致，但是有两个例外，第一个例外就是在初始化常量引用时允许用任意表达式作为初始值，只要该表达式的结果能转换成引用的类型即可，尤其，允许为一个常量引用绑定非常量的对象、字面值，甚至是个一般表达式\n",
    "```c++\n",
    "int i = 42;\n",
    "const int &r1 = i;\n",
    "const int &r2 = 42;\n",
    "const int &r3 = r1 * 2;\n",
    "double dval = 3.14;\n",
    "const int &ri = dval;\n",
    "```\n",
    "- 实际上，当一个常量引用被绑定到另外一种类型上时，C++内部会生成一个临时量（temporary）对象\n",
    "```c++\n",
    "const int temp = dval;\n",
    "const int &ri = temp;\n",
    "```\n",
    "- 必须认识到，常量引用仅对引用可参与的操作做出了限定，对于引用的对象本身是不是一个常量未作限定，因为对象也可能是个非常量，所以允许通过其它途径改变它的值"
   ]
  },
  {
   "cell_type": "markdown",
   "metadata": {},
   "source": [
    "### 2.4.2 指针和const"
   ]
  },
  {
   "cell_type": "markdown",
   "metadata": {},
   "source": [
    "- 指向常量的指针（pointer to const）不能用于改变其所指对象的值，要想存放常量对象的地址，只能使用指向常量的指针\n",
    "- 前面我们提到，指针的类型必须与其所指对象的类型一致，但是有两个例外，第一个例外就是允许令一个指向常量的指针指向一个非常量对象\n",
    "- 和常量引用一样，所谓指向常量的指针仅仅要求不能通过该指针改变对象的值，而没有规定那个对象的值不能通过其他途径改变"
   ]
  },
  {
   "cell_type": "markdown",
   "metadata": {},
   "source": [
    "#### const指针"
   ]
  },
  {
   "cell_type": "markdown",
   "metadata": {},
   "source": [
    "- 指针是对象而引用不是，因此就像其他对象类型一样，允许把指针本身定为常量，称为常量指针（const pointer），声明符是`*const`\n",
    "- 常量指针必须初始化，而且一旦初始化完成，则它的值（也就是存放在指针中的那个地址）就不能再改变了\n",
    "```c++\n",
    "int errNumb = 0;\n",
    "int *const curErr = &errNumb; // curErr将一直指向errNumb\n",
    "const double pi = 3.14159;\n",
    "const double *const pip = &pi; // pip是一个指向常量对象的常量指针\n",
    "```\n",
    "- 指针本身是一个常量并不意味着不能通过指针修改其所指对象的值，能否这样做完全依赖于所指对象的类型，例如，pip是一个指向常量的常量指针，则不论是pip所指的对象值还是pip自己存储的那个地址都不能改变，相反的，curErr指向的是一个一般的非常量整数，那么完全就可以用curErr去修改errNumb的值"
   ]
  },
  {
   "cell_type": "markdown",
   "metadata": {},
   "source": [
    "### 2.4.3 顶层const"
   ]
  },
  {
   "cell_type": "markdown",
   "metadata": {},
   "source": [
    "- 顶层const（top-level const）可以表示任意的对象是常量，这一点对任何数据类型都使用，如算术类型、类、指针等；底层const（low-level const）则与指针和引用等复合类型的基本类型部分有关；比较特殊的是，指针类型既可以是顶层const，也可以是底层const\n",
    "- 当执行对象的拷贝操作时，常量是顶层const还是底层const区别明显：顶层const不受什么影响，因为执行拷贝操作并不会改变被拷贝对象的值，因此，拷入和拷出的对象是否是常量都没什么关系；底层const的限制却不能忽视，当执行对象的拷贝操作时，拷入和拷出的对象必须具有相同的底层const资格，或者两个对象的数据类型必须能够转换（一般地，非常量可以转换成常量，反之不行）"
   ]
  },
  {
   "cell_type": "markdown",
   "metadata": {},
   "source": [
    "### 2.4.4 constexpr和常量表达式"
   ]
  },
  {
   "cell_type": "markdown",
   "metadata": {},
   "source": [
    "- 常量表达式（const expression）是指值不会改变并且在编译过程就能得到计算结果的表达式；显然，字面值属于常量表达式，用常量表达式初始化的const对象也是常量表达式；后面将会提到，C++语言中有几种情况下是要用到常量表达式的\n",
    "- 一个对象（或表达式）是不是常量表达式由它的数据类型和初始值共同决定\n",
    "```c++\n",
    "const int max_files = 20;\n",
    "const int limit = max_files + 1;\n",
    "int staff_size = 27; // 不是const int，值有可能改变，非常量表达式\n",
    "const int sz = get_size(); // get_size()的值需要等到运行时才知道，非常量表达式\n",
    "```\n",
    "- 允许将变量声明为`constexpr`类型以便由编译器来验证变量的值是否是一个常量表达式；声明为`constexpr`的变量一定是一个常量，而且必须用常量表达式初始化\n",
    "```c++\n",
    "constexpr int mf = 20;\n",
    "constexpr int limit = mf + 1;\n",
    "constexpr int sz = size(); // 只有当size()是一个constexpr函数时，才是一条正确的声明语句\n",
    "```"
   ]
  },
  {
   "cell_type": "markdown",
   "metadata": {},
   "source": [
    "#### 字面值类型"
   ]
  },
  {
   "cell_type": "markdown",
   "metadata": {},
   "source": [
    "- 常量表达式的值需要在编译时就得到计算，因此对声明constexpr时用到的类型必须有所限制，因为这些类型一般比较简单，值也显而易见、容易得到，就把它们称为“字面值类型”（literal type）\n",
    "- 算术类型、引用和指针都属于字面值类型，自定义类型、IO库、string类型则不是，它们不能被定义为constexpr，其它的字面值类型后面会讲\n",
    "- 尽管指针和引用都能定义成constexpr，但它们的初始值却受到严格限制，一个constexpr指针的初始值必须是nullptr或者0，或者是存储于某个固定地址中的对象"
   ]
  },
  {
   "cell_type": "markdown",
   "metadata": {},
   "source": [
    "#### 指针和constexpr"
   ]
  },
  {
   "cell_type": "markdown",
   "metadata": {},
   "source": [
    "- 在constexpr声明中如果定义了一个指针，限定符constexpr仅对指针有效，与指针所指的对象无关（顶层const）\n",
    "```c++\n",
    "const int *p = nullptr; // 指向整型常量的指针\n",
    "constexpr int *q = nullptr; // 指向整数的常量指针\n",
    "```"
   ]
  },
  {
   "cell_type": "markdown",
   "metadata": {},
   "source": [
    "## 2.5 处理类型"
   ]
  },
  {
   "cell_type": "markdown",
   "metadata": {},
   "source": [
    "### 2.5.1 类型别名"
   ]
  },
  {
   "cell_type": "markdown",
   "metadata": {},
   "source": [
    "- 类型别名（type alias）是一个名字，它是某种类型的同义词，有两种方式可以定义类型别名\n",
    "```c++\n",
    "typedef double wages;\n",
    "using SI = Sales_item; // 这是新标准中的别名声明（alias declaration）\n",
    "```\n",
    "- 和以前的声明语句一样，上面的声明符也能包含类型修饰，从而也能由基本数据类型构造出复合类型来\n",
    "- 类型别名和类型名等价，只要是类型名能出现的地方，就能使用类型别名\n",
    "```c++\n",
    "wages hourly, weekly;\n",
    "SI item;\n",
    "```"
   ]
  },
  {
   "cell_type": "markdown",
   "metadata": {},
   "source": [
    "#### 指针、常量和类型别名"
   ]
  },
  {
   "cell_type": "markdown",
   "metadata": {},
   "source": [
    "- 如果某个类型别名指代的是复合类型或常量，那么把它用到声明语句里就会产生意想不到的后果\n",
    "```c++\n",
    "typedef char *pstring;\n",
    "const pstring cstr = 0; // cstr是指向char的常量指针\n",
    "const pstring *ps; // ps是一个指针，它的对象是指向char的常量指针\n",
    "```\n",
    "- 上例中，const pstring是指向char的常量指针，而非指向常量字符的指针，人们往往会错误地尝试把类型别名替换成它本来的样子，以理解该语句的含义，这是不对的"
   ]
  },
  {
   "cell_type": "markdown",
   "metadata": {},
   "source": [
    "### 2.5.2 auto类型说明符"
   ]
  },
  {
   "cell_type": "markdown",
   "metadata": {},
   "source": [
    "- C++11新标准引入了auto类型说明符，用它就能让编译器替我们去分析表达式所属的类型\n",
    "- auto让编译器通过初始值来推算变量的类型，因此，auto定义的变量必须有初始值\n",
    "- 使用auto也能在一条语句中声明多个变量，并且该语句中的所有变量的初始基本类型都必须一样"
   ]
  },
  {
   "cell_type": "markdown",
   "metadata": {},
   "source": [
    "#### 复合类型、常量和auto"
   ]
  },
  {
   "cell_type": "markdown",
   "metadata": {},
   "source": [
    "- 编译器推断出来的auto类型有时候和初始值的类型并不完全一样，编译器会适当地改变结果类型使其更符合初始化规则\n",
    "- 当引用被用作初始值时，编译器以引用对象的类型作为auto的类型\n",
    "```c++\n",
    "int i = 0, &r = i;\n",
    "auto a = r; // a是一个整数\n",
    "```\n",
    "- auto一般会忽略顶层const，保留底层const\n",
    "```c++\n",
    "const int ci = i, &cr = ci;\n",
    "auto b = ci; // b是一个整数（ci的顶层const特性被忽略）\n",
    "auto c = cr; // c是一个整数（实际上是用ci在初始化c，因此ci的顶层const特性被忽略）\n",
    "auto d = &i; // d是一个整型指针\n",
    "auto e = &ci; // e是一个指向整数常量的指针（底层const被保留）\n",
    "```\n",
    "- 如果希望推断出的auto类型是一个顶层const，需要明确指出\n",
    "```c++\n",
    "const auto f = ci; // ci的推演类型是int，f是const int\n",
    "```\n",
    "- 还可以将引用的类型设为auto\n",
    "```c++\n",
    "auto &g = ci; // g是一个整型常量引用，绑定到ci；设定一个类型为auto的引用时，初始值中的顶层常量属性仍然保留\n",
    "auto &h = 42; // 错误：不能为非常量引用绑定字面值\n",
    "const auto &j = 42; // 正确：可以为常量引用绑定字面值\n",
    "```"
   ]
  },
  {
   "cell_type": "markdown",
   "metadata": {},
   "source": [
    "### 2.5.3 decltype类型指示符"
   ]
  },
  {
   "cell_type": "markdown",
   "metadata": {},
   "source": [
    "- decltype是第二种类型说明符，它可以分析传入的表达式并得到它的类型，却不实际计算表达式的值\n",
    "```c++\n",
    "decltype(f()) sum = x; // sum的类型就是函数f的返回类型\n",
    "```\n",
    "- decltype处理顶层const和引用的方式与auto有些许不同；如果decltype使用的表达式是一个变量，则decltype返回该变量的类型（包括顶层const和引用在内）\n",
    "```c++\n",
    "const int ci = 0, &cj = ci; \n",
    "decltype(ci) x = 0; // x的类型是const int\n",
    "decltype(cj) y = x; // y的类型是const int&，y绑定到变量x\n",
    "decltype(cj) z; // 错误：z是一个引用，必须初始化\n",
    "```"
   ]
  },
  {
   "cell_type": "markdown",
   "metadata": {},
   "source": [
    "#### decltype和引用"
   ]
  },
  {
   "cell_type": "markdown",
   "metadata": {},
   "source": [
    "- 如果decltype使用的表达式不是一个变量，则decltype返回表达式结果对应的类型；有些表达式将向decltype返回一个引用类型，一般来说当这种情况发生时，意味着该表达式的结果对象能作为一条赋值语句的左值\n",
    "```c++\n",
    "int i = 42, *p = &i, &r = i;\n",
    "decltype(r + 0) b; // 正确：r是引用，r+0是一个具体的值，所以b的类型是（未初始化的）int\n",
    "decltype(*p) c; // 错误：*p可以作为赋值语句的左值，因此这里返回一个int& 类型，必须初始化\n",
    "```\n",
    "- decltype和auto的另一处重要区别是，decltype的结果类型与表达式形式密切相关；对于decltype所用的表达式来说，如果变量名加上了一层或多层括号，编译器就会把它当成是一个表达式，而变量是一种可以作为赋值语句左值的特殊表达式，所以这样会得到引用类型；如果不加括号，得到的就是该变量的类型\n",
    "```c++\n",
    "decltype((i)) d; // 错误：d是int&，必须初始化\n",
    "decltype(i) e; // 正确：e是一个（未初始化的）int\n",
    "```"
   ]
  },
  {
   "cell_type": "markdown",
   "metadata": {},
   "source": [
    "## 2.6 自定义数据结构"
   ]
  },
  {
   "cell_type": "markdown",
   "metadata": {},
   "source": [
    "- C++允许用户以类的形式自定义数据类型，而库类型string、istream、ostream等也都是以类的形式定义的\n",
    "- 类的数据成员定义了类的对象的具体内容，每个对象有自己的一份数据成员拷贝；C++11新标准规定，可以为数据成员提供一个类内初始值（in-class initializer），创建对象时，类内初始值将用于初始化数据成员，没有初始值的成员将被默认初始化；类内初始值只能放在花括号里，或者放在等号右边，记住不能使用圆括号\n",
    "- 为了防止头文件被多次包含，可以加上头文件保护符（header guard）"
   ]
  },
  {
   "cell_type": "code",
   "execution_count": null,
   "metadata": {},
   "outputs": [],
   "source": []
  }
 ],
 "metadata": {
  "kernelspec": {
   "display_name": "Python 2",
   "language": "python",
   "name": "python2"
  },
  "language_info": {
   "codemirror_mode": {
    "name": "ipython",
    "version": 2
   },
   "file_extension": ".py",
   "mimetype": "text/x-python",
   "name": "python",
   "nbconvert_exporter": "python",
   "pygments_lexer": "ipython2",
   "version": "2.7.10"
  }
 },
 "nbformat": 4,
 "nbformat_minor": 2
}
